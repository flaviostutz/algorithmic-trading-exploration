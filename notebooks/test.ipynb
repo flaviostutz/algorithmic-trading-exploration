{
 "cells": [
  {
   "cell_type": "code",
   "execution_count": null,
   "metadata": {},
   "outputs": [],
   "source": [
    "def unique(str_array):\n",
    "    m = {}\n",
    "    for s in str_array:\n",
    "        if s in m:\n",
    "            return False\n",
    "        else:\n",
    "            m[s] = s\n",
    "    return True\n",
    "\n",
    "unique([\"11111111\",\"111111111\",\"111111111\"])"
   ]
  },
  {
   "cell_type": "code",
   "execution_count": null,
   "metadata": {},
   "outputs": [],
   "source": [
    "def is_permutation(str1, str2):\n",
    "    c = 0\n",
    "    for s1 in str1:\n",
    "        for s2 in str2:\n",
    "            if s1 == s2:\n",
    "                c = c + 1\n",
    "    return len(str1) == len(str2) and len(str1) == c\n",
    "\n",
    "is_permutation(\"abc\",\"bca\")"
   ]
  },
  {
   "cell_type": "code",
   "execution_count": null,
   "metadata": {},
   "outputs": [],
   "source": [
    "def is_permutation2(str1, str2):\n",
    "    n = {}\n",
    "    for s1 in str1:\n",
    "        if s1 in str2:\n",
    "            n[s1] = 1\n",
    "        else:\n",
    "            return False\n",
    "    return len(str1) == len(str2) and len(n) == len(str1)\n",
    "\n",
    "is_permutation2(\"abc\",\"abc\")"
   ]
  },
  {
   "cell_type": "code",
   "execution_count": null,
   "metadata": {},
   "outputs": [],
   "source": [
    "def f(obj):\n",
    "    obj[\"test\"] = \"b\"\n",
    "    obj[\"test2\"] = \"t2\"\n",
    "    \n",
    "obj = {}\n",
    "obj[\"test\"] = \"a\"\n",
    "f(obj)\n",
    "print(obj)"
   ]
  },
  {
   "cell_type": "code",
   "execution_count": null,
   "metadata": {},
   "outputs": [],
   "source": [
    "def encode_spaces(byte_array, size):\n",
    "    print(byte_array)\n",
    "    ic = size - 1\n",
    "    oc = len(byte_array) - 1\n",
    "    for c in range(0,len(byte_array)):\n",
    "        if c < (len(byte_array) - size):\n",
    "            byte_array[oc] = byte_array[ic]\n",
    "            oc = oc - 1\n",
    "        else:\n",
    "            if byte_array[ic] == 32:\n",
    "                #add '%20'\n",
    "                byte_array[oc] = 48\n",
    "                byte_array[oc-1] = 50\n",
    "                byte_array[oc-2] = 37\n",
    "                oc = oc - 3\n",
    "            else:\n",
    "                byte_array[oc] = byte_array[ic]\n",
    "                oc = oc - 1\n",
    "        ic = ic - 1\n",
    "                \n",
    "ba = bytearray(b'Mr John Smith    ')\n",
    "r = encode_spaces(ba, 13)\n",
    "print(ba)"
   ]
  },
  {
   "cell_type": "code",
   "execution_count": null,
   "metadata": {},
   "outputs": [],
   "source": [
    "import math\n",
    "\n",
    "def permutation(str):\n",
    "    return permutation2(str.lower(), \"\")\n",
    "\n",
    "def permutation2(str, prefix):\n",
    "    n = len(str)\n",
    "    if n == 0:\n",
    "        if is_palindrome(prefix):\n",
    "            print(prefix + \" PALINDROME!\")\n",
    "            return prefix\n",
    "    else:\n",
    "        for i in range (0, n):\n",
    "            p = permutation2(str[0:i] + str[i+1:n], prefix + str[i])\n",
    "#             print(p)\n",
    "            if p != None:\n",
    "                return p\n",
    "\n",
    "def is_palindrome(str2):\n",
    "    str = \"\"\n",
    "    for i in range(0, len(str2)):\n",
    "        if str2[i] != \" \":\n",
    "            str = str + str2[i]\n",
    "        \n",
    "    for i in range(0, math.floor(len(str)/2)):\n",
    "        if str[i] != str[len(str)-i-1]:\n",
    "            return False\n",
    "    return True\n",
    "            \n",
    "# print(permutation(\"Tact coa\"))\n",
    "print(permutation(\"ABCEB AC\"))"
   ]
  },
  {
   "cell_type": "code",
   "execution_count": 18,
   "metadata": {},
   "outputs": [
    {
     "name": "stdout",
     "output_type": "stream",
     "text": [
      "[0, 1, 1, 2, 3, 5, 8]\n"
     ]
    }
   ],
   "source": [
    "def fibonacci(N):\n",
    "    return fib(1, N, [0,1])\n",
    "    \n",
    "def fib(n, nmax, result):\n",
    "    if n > nmax:\n",
    "        return result\n",
    "    nx = result[n-1] + result[n]\n",
    "    result.append(nx)\n",
    "    return fib(n+1, nmax, result)\n",
    "\n",
    "print(fibonacci(5))"
   ]
  },
  {
   "cell_type": "code",
   "execution_count": 17,
   "metadata": {},
   "outputs": [
    {
     "name": "stdout",
     "output_type": "stream",
     "text": [
      "[0, 1, 1, 2, 3, 5, 8, 13, 21, 34, 55, 89, 144, 233, 377]\n"
     ]
    }
   ],
   "source": [
    "cache = {}\n",
    "def fib(n):\n",
    "    if n==0: return 0\n",
    "    if n==1: return 1\n",
    "    if cache.get(n) == None:\n",
    "        cache[n] = fib(n - 1) + fib(n - 2)\n",
    "    return cache[n]\n",
    "print([fib(x) for x in range(15)])"
   ]
  },
  {
   "cell_type": "code",
   "execution_count": null,
   "metadata": {},
   "outputs": [],
   "source": []
  }
 ],
 "metadata": {
  "kernelspec": {
   "display_name": "Python 3",
   "language": "python",
   "name": "python3"
  },
  "language_info": {
   "codemirror_mode": {
    "name": "ipython",
    "version": 3
   },
   "file_extension": ".py",
   "mimetype": "text/x-python",
   "name": "python",
   "nbconvert_exporter": "python",
   "pygments_lexer": "ipython3",
   "version": "3.8.3"
  }
 },
 "nbformat": 4,
 "nbformat_minor": 4
}
