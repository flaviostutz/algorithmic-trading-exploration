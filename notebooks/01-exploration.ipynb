{
 "cells": [
  {
   "cell_type": "code",
   "execution_count": 340,
   "id": "b5e7cae5",
   "metadata": {},
   "outputs": [],
   "source": [
    "import requests\n",
    "import pandas as pd\n",
    "import datetime\n",
    "import matplotlib.pyplot as plt"
   ]
  },
  {
   "cell_type": "code",
   "execution_count": 341,
   "id": "184608c0",
   "metadata": {},
   "outputs": [],
   "source": [
    "url = 'https://min-api.cryptocompare.com/data/histominute' +\\\n",
    "        '?fsym=BTC' +\\\n",
    "        '&tsym=USD' +\\\n",
    "        '&limit=2000' +\\\n",
    "        '&aggregate=1'\n",
    "response = requests.get(url)\n",
    "data = response.json()['Data']\n",
    "\n",
    "df = pd.DataFrame(data)\n",
    "df['timestamp'] = [datetime.datetime.fromtimestamp(d) for d in df.time]"
   ]
  },
  {
   "cell_type": "code",
   "execution_count": 342,
   "id": "343b419c",
   "metadata": {},
   "outputs": [
    {
     "data": {
      "text/html": [
       "<div>\n",
       "<style scoped>\n",
       "    .dataframe tbody tr th:only-of-type {\n",
       "        vertical-align: middle;\n",
       "    }\n",
       "\n",
       "    .dataframe tbody tr th {\n",
       "        vertical-align: top;\n",
       "    }\n",
       "\n",
       "    .dataframe thead th {\n",
       "        text-align: right;\n",
       "    }\n",
       "</style>\n",
       "<table border=\"1\" class=\"dataframe\">\n",
       "  <thead>\n",
       "    <tr style=\"text-align: right;\">\n",
       "      <th></th>\n",
       "      <th>time</th>\n",
       "      <th>high</th>\n",
       "      <th>low</th>\n",
       "      <th>open</th>\n",
       "      <th>volumefrom</th>\n",
       "      <th>volumeto</th>\n",
       "      <th>close</th>\n",
       "      <th>conversionType</th>\n",
       "      <th>conversionSymbol</th>\n",
       "      <th>timestamp</th>\n",
       "    </tr>\n",
       "  </thead>\n",
       "  <tbody>\n",
       "    <tr>\n",
       "      <th>0</th>\n",
       "      <td>1622113020</td>\n",
       "      <td>39290.15</td>\n",
       "      <td>39258.60</td>\n",
       "      <td>39260.38</td>\n",
       "      <td>6.798</td>\n",
       "      <td>266965.60</td>\n",
       "      <td>39277.87</td>\n",
       "      <td>direct</td>\n",
       "      <td></td>\n",
       "      <td>2021-05-27 10:57:00</td>\n",
       "    </tr>\n",
       "    <tr>\n",
       "      <th>1</th>\n",
       "      <td>1622113080</td>\n",
       "      <td>39301.66</td>\n",
       "      <td>39250.02</td>\n",
       "      <td>39277.87</td>\n",
       "      <td>30.800</td>\n",
       "      <td>1209814.50</td>\n",
       "      <td>39250.02</td>\n",
       "      <td>direct</td>\n",
       "      <td></td>\n",
       "      <td>2021-05-27 10:58:00</td>\n",
       "    </tr>\n",
       "    <tr>\n",
       "      <th>2</th>\n",
       "      <td>1622113140</td>\n",
       "      <td>39258.28</td>\n",
       "      <td>39194.41</td>\n",
       "      <td>39250.02</td>\n",
       "      <td>23.110</td>\n",
       "      <td>906483.32</td>\n",
       "      <td>39252.90</td>\n",
       "      <td>direct</td>\n",
       "      <td></td>\n",
       "      <td>2021-05-27 10:59:00</td>\n",
       "    </tr>\n",
       "    <tr>\n",
       "      <th>3</th>\n",
       "      <td>1622113200</td>\n",
       "      <td>39375.14</td>\n",
       "      <td>39250.58</td>\n",
       "      <td>39252.90</td>\n",
       "      <td>39.810</td>\n",
       "      <td>1565848.93</td>\n",
       "      <td>39375.14</td>\n",
       "      <td>direct</td>\n",
       "      <td></td>\n",
       "      <td>2021-05-27 11:00:00</td>\n",
       "    </tr>\n",
       "    <tr>\n",
       "      <th>4</th>\n",
       "      <td>1622113260</td>\n",
       "      <td>39439.96</td>\n",
       "      <td>39372.35</td>\n",
       "      <td>39375.14</td>\n",
       "      <td>24.150</td>\n",
       "      <td>951475.14</td>\n",
       "      <td>39431.01</td>\n",
       "      <td>direct</td>\n",
       "      <td></td>\n",
       "      <td>2021-05-27 11:01:00</td>\n",
       "    </tr>\n",
       "    <tr>\n",
       "      <th>...</th>\n",
       "      <td>...</td>\n",
       "      <td>...</td>\n",
       "      <td>...</td>\n",
       "      <td>...</td>\n",
       "      <td>...</td>\n",
       "      <td>...</td>\n",
       "      <td>...</td>\n",
       "      <td>...</td>\n",
       "      <td>...</td>\n",
       "      <td>...</td>\n",
       "    </tr>\n",
       "    <tr>\n",
       "      <th>1996</th>\n",
       "      <td>1622232780</td>\n",
       "      <td>36094.11</td>\n",
       "      <td>36057.16</td>\n",
       "      <td>36057.16</td>\n",
       "      <td>42.630</td>\n",
       "      <td>1538112.44</td>\n",
       "      <td>36082.25</td>\n",
       "      <td>direct</td>\n",
       "      <td></td>\n",
       "      <td>2021-05-28 20:13:00</td>\n",
       "    </tr>\n",
       "    <tr>\n",
       "      <th>1997</th>\n",
       "      <td>1622232840</td>\n",
       "      <td>36150.14</td>\n",
       "      <td>36082.25</td>\n",
       "      <td>36082.25</td>\n",
       "      <td>72.180</td>\n",
       "      <td>2606630.91</td>\n",
       "      <td>36136.96</td>\n",
       "      <td>direct</td>\n",
       "      <td></td>\n",
       "      <td>2021-05-28 20:14:00</td>\n",
       "    </tr>\n",
       "    <tr>\n",
       "      <th>1998</th>\n",
       "      <td>1622232900</td>\n",
       "      <td>36141.32</td>\n",
       "      <td>36098.37</td>\n",
       "      <td>36136.96</td>\n",
       "      <td>40.870</td>\n",
       "      <td>1475956.28</td>\n",
       "      <td>36102.07</td>\n",
       "      <td>direct</td>\n",
       "      <td></td>\n",
       "      <td>2021-05-28 20:15:00</td>\n",
       "    </tr>\n",
       "    <tr>\n",
       "      <th>1999</th>\n",
       "      <td>1622232960</td>\n",
       "      <td>36131.75</td>\n",
       "      <td>36102.07</td>\n",
       "      <td>36102.07</td>\n",
       "      <td>15.830</td>\n",
       "      <td>571918.01</td>\n",
       "      <td>36127.77</td>\n",
       "      <td>direct</td>\n",
       "      <td></td>\n",
       "      <td>2021-05-28 20:16:00</td>\n",
       "    </tr>\n",
       "    <tr>\n",
       "      <th>2000</th>\n",
       "      <td>1622233020</td>\n",
       "      <td>36129.09</td>\n",
       "      <td>36127.77</td>\n",
       "      <td>36127.77</td>\n",
       "      <td>0.000</td>\n",
       "      <td>0.00</td>\n",
       "      <td>36129.09</td>\n",
       "      <td>direct</td>\n",
       "      <td></td>\n",
       "      <td>2021-05-28 20:17:00</td>\n",
       "    </tr>\n",
       "  </tbody>\n",
       "</table>\n",
       "<p>2001 rows × 10 columns</p>\n",
       "</div>"
      ],
      "text/plain": [
       "            time      high       low      open  volumefrom    volumeto  \\\n",
       "0     1622113020  39290.15  39258.60  39260.38       6.798   266965.60   \n",
       "1     1622113080  39301.66  39250.02  39277.87      30.800  1209814.50   \n",
       "2     1622113140  39258.28  39194.41  39250.02      23.110   906483.32   \n",
       "3     1622113200  39375.14  39250.58  39252.90      39.810  1565848.93   \n",
       "4     1622113260  39439.96  39372.35  39375.14      24.150   951475.14   \n",
       "...          ...       ...       ...       ...         ...         ...   \n",
       "1996  1622232780  36094.11  36057.16  36057.16      42.630  1538112.44   \n",
       "1997  1622232840  36150.14  36082.25  36082.25      72.180  2606630.91   \n",
       "1998  1622232900  36141.32  36098.37  36136.96      40.870  1475956.28   \n",
       "1999  1622232960  36131.75  36102.07  36102.07      15.830   571918.01   \n",
       "2000  1622233020  36129.09  36127.77  36127.77       0.000        0.00   \n",
       "\n",
       "         close conversionType conversionSymbol           timestamp  \n",
       "0     39277.87         direct                  2021-05-27 10:57:00  \n",
       "1     39250.02         direct                  2021-05-27 10:58:00  \n",
       "2     39252.90         direct                  2021-05-27 10:59:00  \n",
       "3     39375.14         direct                  2021-05-27 11:00:00  \n",
       "4     39431.01         direct                  2021-05-27 11:01:00  \n",
       "...        ...            ...              ...                 ...  \n",
       "1996  36082.25         direct                  2021-05-28 20:13:00  \n",
       "1997  36136.96         direct                  2021-05-28 20:14:00  \n",
       "1998  36102.07         direct                  2021-05-28 20:15:00  \n",
       "1999  36127.77         direct                  2021-05-28 20:16:00  \n",
       "2000  36129.09         direct                  2021-05-28 20:17:00  \n",
       "\n",
       "[2001 rows x 10 columns]"
      ]
     },
     "execution_count": 342,
     "metadata": {},
     "output_type": "execute_result"
    }
   ],
   "source": [
    "df"
   ]
  },
  {
   "cell_type": "code",
   "execution_count": 343,
   "id": "d2e19a49",
   "metadata": {},
   "outputs": [
    {
     "data": {
      "text/html": [
       "<div>\n",
       "<style scoped>\n",
       "    .dataframe tbody tr th:only-of-type {\n",
       "        vertical-align: middle;\n",
       "    }\n",
       "\n",
       "    .dataframe tbody tr th {\n",
       "        vertical-align: top;\n",
       "    }\n",
       "\n",
       "    .dataframe thead th {\n",
       "        text-align: right;\n",
       "    }\n",
       "</style>\n",
       "<table border=\"1\" class=\"dataframe\">\n",
       "  <thead>\n",
       "    <tr style=\"text-align: right;\">\n",
       "      <th></th>\n",
       "      <th>time</th>\n",
       "      <th>high</th>\n",
       "      <th>low</th>\n",
       "      <th>open</th>\n",
       "      <th>volumefrom</th>\n",
       "      <th>volumeto</th>\n",
       "      <th>close</th>\n",
       "    </tr>\n",
       "  </thead>\n",
       "  <tbody>\n",
       "    <tr>\n",
       "      <th>count</th>\n",
       "      <td>2.001000e+03</td>\n",
       "      <td>2001.000000</td>\n",
       "      <td>2001.000000</td>\n",
       "      <td>2001.000000</td>\n",
       "      <td>2001.000000</td>\n",
       "      <td>2.001000e+03</td>\n",
       "      <td>2001.000000</td>\n",
       "    </tr>\n",
       "    <tr>\n",
       "      <th>mean</th>\n",
       "      <td>1.622173e+09</td>\n",
       "      <td>37818.821014</td>\n",
       "      <td>37747.863603</td>\n",
       "      <td>37782.626357</td>\n",
       "      <td>65.820888</td>\n",
       "      <td>2.458940e+06</td>\n",
       "      <td>37781.053263</td>\n",
       "    </tr>\n",
       "    <tr>\n",
       "      <th>std</th>\n",
       "      <td>3.466700e+04</td>\n",
       "      <td>1375.769895</td>\n",
       "      <td>1386.340000</td>\n",
       "      <td>1381.357198</td>\n",
       "      <td>217.488182</td>\n",
       "      <td>8.041985e+06</td>\n",
       "      <td>1381.441887</td>\n",
       "    </tr>\n",
       "    <tr>\n",
       "      <th>min</th>\n",
       "      <td>1.622113e+09</td>\n",
       "      <td>35249.550000</td>\n",
       "      <td>35146.440000</td>\n",
       "      <td>35149.410000</td>\n",
       "      <td>0.000000</td>\n",
       "      <td>0.000000e+00</td>\n",
       "      <td>35149.410000</td>\n",
       "    </tr>\n",
       "    <tr>\n",
       "      <th>25%</th>\n",
       "      <td>1.622143e+09</td>\n",
       "      <td>36664.490000</td>\n",
       "      <td>36572.220000</td>\n",
       "      <td>36607.080000</td>\n",
       "      <td>20.760000</td>\n",
       "      <td>7.901163e+05</td>\n",
       "      <td>36605.710000</td>\n",
       "    </tr>\n",
       "    <tr>\n",
       "      <th>50%</th>\n",
       "      <td>1.622173e+09</td>\n",
       "      <td>38033.330000</td>\n",
       "      <td>37951.210000</td>\n",
       "      <td>37990.960000</td>\n",
       "      <td>33.990000</td>\n",
       "      <td>1.286795e+06</td>\n",
       "      <td>37988.470000</td>\n",
       "    </tr>\n",
       "    <tr>\n",
       "      <th>75%</th>\n",
       "      <td>1.622203e+09</td>\n",
       "      <td>38988.080000</td>\n",
       "      <td>38931.610000</td>\n",
       "      <td>38958.740000</td>\n",
       "      <td>58.190000</td>\n",
       "      <td>2.149869e+06</td>\n",
       "      <td>38956.260000</td>\n",
       "    </tr>\n",
       "    <tr>\n",
       "      <th>max</th>\n",
       "      <td>1.622233e+09</td>\n",
       "      <td>40408.950000</td>\n",
       "      <td>40317.180000</td>\n",
       "      <td>40365.290000</td>\n",
       "      <td>5892.300000</td>\n",
       "      <td>2.104329e+08</td>\n",
       "      <td>40365.290000</td>\n",
       "    </tr>\n",
       "  </tbody>\n",
       "</table>\n",
       "</div>"
      ],
      "text/plain": [
       "               time          high           low          open   volumefrom  \\\n",
       "count  2.001000e+03   2001.000000   2001.000000   2001.000000  2001.000000   \n",
       "mean   1.622173e+09  37818.821014  37747.863603  37782.626357    65.820888   \n",
       "std    3.466700e+04   1375.769895   1386.340000   1381.357198   217.488182   \n",
       "min    1.622113e+09  35249.550000  35146.440000  35149.410000     0.000000   \n",
       "25%    1.622143e+09  36664.490000  36572.220000  36607.080000    20.760000   \n",
       "50%    1.622173e+09  38033.330000  37951.210000  37990.960000    33.990000   \n",
       "75%    1.622203e+09  38988.080000  38931.610000  38958.740000    58.190000   \n",
       "max    1.622233e+09  40408.950000  40317.180000  40365.290000  5892.300000   \n",
       "\n",
       "           volumeto         close  \n",
       "count  2.001000e+03   2001.000000  \n",
       "mean   2.458940e+06  37781.053263  \n",
       "std    8.041985e+06   1381.441887  \n",
       "min    0.000000e+00  35149.410000  \n",
       "25%    7.901163e+05  36605.710000  \n",
       "50%    1.286795e+06  37988.470000  \n",
       "75%    2.149869e+06  38956.260000  \n",
       "max    2.104329e+08  40365.290000  "
      ]
     },
     "execution_count": 343,
     "metadata": {},
     "output_type": "execute_result"
    }
   ],
   "source": [
    "df.describe()"
   ]
  },
  {
   "cell_type": "code",
   "execution_count": 344,
   "id": "8e169f0d",
   "metadata": {},
   "outputs": [
    {
     "data": {
      "image/png": "[encoded data removed]",
      "text/plain": [
       "<Figure size 640x480 with 1 Axes>"
      ]
     },
     "metadata": {},
     "output_type": "display_data"
    }
   ],
   "source": [
    "plt.plot(df.timestamp, df.close)\n",
    "plt.xticks(rotation=25)\n",
    "plt.show()"
   ]
  },
  {
   "cell_type": "markdown",
   "id": "b82f7118",
   "metadata": {},
   "source": [
    "### Indicators calc"
   ]
  },
  {
   "cell_type": "markdown",
   "id": "db0e9720",
   "metadata": {},
   "source": [
    "#### Explore pandas_ta lib"
   ]
  },
  {
   "cell_type": "code",
   "execution_count": 345,
   "id": "f5ee1765",
   "metadata": {},
   "outputs": [],
   "source": [
    "import pandas_ta as ta"
   ]
  },
  {
   "cell_type": "code",
   "execution_count": 346,
   "id": "dcb270bd",
   "metadata": {},
   "outputs": [
    {
     "name": "stdout",
     "output_type": "stream",
     "text": [
      "Pandas TA - Technical Analysis Indicators - v0.2.45b0\n",
      "Total Indicators: 133\n",
      "Abbreviations:\n",
      "    aberration, above, above_value, accbands, ad, adosc, adx, alma, amat, ao, aobv, apo, aroon, atr, bbands, below, below_value, bias, bop, brar, cci, cdl_doji, cdl_inside, cfo, cg, chop, cksp, cmf, cmo, coppock, cross, cross_value, decay, decreasing, dema, donchian, dpo, ebsw, efi, ema, entropy, eom, er, eri, fisher, fwma, ha, hilo, hl2, hlc3, hma, hwc, hwma, ichimoku, increasing, inertia, kama, kc, kdj, kst, kurtosis, linreg, log_return, long_run, macd, mad, massi, mcgd, median, mfi, midpoint, midprice, mom, natr, nvi, obv, ohlc4, pdist, percent_return, pgo, ppo, psar, psl, pvi, pvo, pvol, pvr, pvt, pwma, qqe, qstick, quantile, rma, roc, rsi, rsx, rvgi, rvi, short_run, sinwma, skew, slope, sma, smi, squeeze, ssf, stdev, stoch, stochrsi, supertrend, swma, t3, tema, thermo, trend_return, trima, trix, true_range, tsi, ttm_trend, ui, uo, variance, vidya, vortex, vp, vwap, vwma, wcp, willr, wma, zlma, zscore\n"
     ]
    }
   ],
   "source": [
    "df3 = df.copy()\n",
    "df3.ta.adjusted = 'Close'\n",
    "df3.ta.indicators()"
   ]
  },
  {
   "cell_type": "code",
   "execution_count": 395,
   "id": "3be06de9",
   "metadata": {},
   "outputs": [],
   "source": [
    "rsidf = df3.ta.rsi()\n",
    "atrdf = df3.ta.atr(length=14)"
   ]
  },
  {
   "cell_type": "markdown",
   "id": "f3cc12de",
   "metadata": {},
   "source": [
    "#### Explore ta lib"
   ]
  },
  {
   "cell_type": "code",
   "execution_count": 447,
   "id": "79ca419f",
   "metadata": {},
   "outputs": [],
   "source": [
    "from ta import add_all_ta_features\n",
    "import numpy as np\n",
    "import ta.volatility as vol\n",
    "import ta.momentum as mom\n",
    "\n",
    "indicator_atr = vol.AverageTrueRange(high=df['high'], low=df['low'], close=df['close'], window=14)\n",
    "atr2df = indicator_atr.average_true_range()\n",
    "atr2df = atr2df.replace({'0':np.nan, 0:np.nan})\n",
    "\n",
    "indicator_rsi = mom.RSIIndicator(close=df['close'], window=14)\n",
    "rsi2df = indicator_rsi.rsi()\n",
    "rsi2df = rsi2df.replace({'0':np.nan, 0:np.nan})\n",
    "\n",
    "# dfta = add_all_ta_features(\n",
    "#     df, open=\"open\", high=\"high\", low=\"low\", close=\"close\", volume=\"volumefrom\")\n",
    "# dfta.columns"
   ]
  },
  {
   "cell_type": "markdown",
   "id": "54d989a1",
   "metadata": {},
   "source": [
    "### Plot candlesticks"
   ]
  },
  {
   "cell_type": "code",
   "execution_count": 443,
   "id": "005ec4d0",
   "metadata": {},
   "outputs": [],
   "source": [
    "import mplfinance as mpf"
   ]
  },
  {
   "cell_type": "code",
   "execution_count": 444,
   "id": "cde5ab57",
   "metadata": {},
   "outputs": [],
   "source": [
    "df2 = df.rename(columns={\"timestamp\": \"Date\", \"open\": \"Open\", \"high\": \"High\", \"low\": \"Low\", \"close\": \"Close\", \"volumefrom\": \"Volume\"})\n",
    "df2 = df2[['Date', 'Open', 'High', 'Low', 'Close', 'Volume']]\n",
    "df2.set_index('Date', inplace=True)"
   ]
  },
  {
   "cell_type": "code",
   "execution_count": 445,
   "id": "cd0175aa",
   "metadata": {},
   "outputs": [
    {
     "data": {
      "image/png": "[encoded data removed]",
      "text/plain": [
       "<Figure size 400x287.5 with 4 Axes>"
      ]
     },
     "metadata": {},
     "output_type": "display_data"
    }
   ],
   "source": [
    "mpf.plot(df2[:80],\n",
    "         type='candle',\n",
    "         figscale=0.5,\n",
    "         volume=True,\n",
    "         style='yahoo',\n",
    "         tight_layout=True)"
   ]
  },
  {
   "cell_type": "markdown",
   "id": "99200f46",
   "metadata": {},
   "source": [
    "### Plot lines and special marks"
   ]
  },
  {
   "cell_type": "code",
   "execution_count": 446,
   "id": "9d2deb2d",
   "metadata": {},
   "outputs": [],
   "source": [
    "lines = [\n",
    "            (str(df2.index[10]),df2['Close'][10]), \n",
    "            (str(df2.index[70]),df2['Close'][70])\n",
    "        ]"
   ]
  },
  {
   "cell_type": "code",
   "execution_count": 450,
   "id": "f5c38e97",
   "metadata": {},
   "outputs": [],
   "source": [
    "def markersAt(df, dates):\n",
    "    import numpy as np\n",
    "    markers = []\n",
    "    for date, value in df.T.iteritems():\n",
    "        if date in dates:\n",
    "            markers.append(value[\"High\"]*1.001)\n",
    "        else:\n",
    "            markers.append(np.nan)\n",
    "    return markers\n",
    "\n",
    "dates1 = [df2.index[10], df2.index[30], df2.index[70]]\n",
    "markers1 = markersAt(df2[:80], dates1)\n",
    "\n",
    "dates2 = [df2.index[15], df2.index[20], df2.index[25]]\n",
    "markers2 = markersAt(df2[:80], dates2)\n",
    "\n",
    "other_plots = [\n",
    "        mpf.make_addplot(df2[:80][['Close']], panel=0, linestyle='dashed', width=1),\n",
    "        mpf.make_addplot(df2[:80][['Open']], panel=1, linestyle='solid', width=1, secondary_y=True),\n",
    "        mpf.make_addplot(markers1,type='scatter',markersize=200,marker='v'),\n",
    "        mpf.make_addplot(markers2,type='scatter',markersize=100,marker='$\\u2665$'),\n",
    "        mpf.make_addplot(rsidf[:80], panel=2, linestyle='dotted', width=1, ylabel='RSI1', color=('r')),\n",
    "        mpf.make_addplot(rsi2df[:80], panel=3, linestyle='dotted', width=1, ylabel='RSI2', color=('r')),\n",
    "        mpf.make_addplot(atrdf[:80], panel=4, linestyle='dotted', width=1, ylabel='ATR1', color=('b')),\n",
    "        mpf.make_addplot(atr2df[:80], panel=5, linestyle='dotted', width=1, ylabel='ATR2', color=('b'))\n",
    "       ]\n",
    "\n",
    "vlines=[str(df2.index[24]),\n",
    "     str(df2.index[42])]\n",
    "\n",
    "tdates = [(df2.index[30],df2.index[60])]"
   ]
  },
  {
   "cell_type": "code",
   "execution_count": null,
   "id": "12080387",
   "metadata": {},
   "outputs": [],
   "source": [
    "#valid_types = ('line','scatter','bar', 'ohlc', 'candle')\n",
    "\n",
    "mpf.plot(df2[:80],\n",
    "         type='candle',\n",
    "         figscale=0.8,\n",
    "         volume=True,\n",
    "         style='yahoo',\n",
    "         addplot=other_plots,\n",
    "         alines=lines,\n",
    "         vlines=dict(vlines=vlines,colors=('c','r'),linewidths=0.1),\n",
    "#          tlines=[\n",
    "#             dict(tlines=tdates,tline_use=['Low'],tline_method='least-squares',colors='b'),\n",
    "#             dict(tlines=tdates,tline_use=['Low'],tline_method='point-to-point',colors='g')\n",
    "#          ],\n",
    "         tight_layout=True,\n",
    "         panel_ratios=(10,5,2,2,2,2)\n",
    "        )\n",
    "#          mav=(20,50,200))"
   ]
  },
  {
   "cell_type": "code",
   "execution_count": null,
   "id": "6f3ba5bc",
   "metadata": {},
   "outputs": [],
   "source": [
    "mpf.plot(df2[:300],figscale=0.5,type='renko',volume=True,style='yahoo', tight_layout=True)"
   ]
  },
  {
   "cell_type": "code",
   "execution_count": 180,
   "id": "5b5ee78f",
   "metadata": {},
   "outputs": [
    {
     "data": {
      "image/png": "[encoded data removed]",
      "text/plain": [
       "<Figure size 240x172.5 with 4 Axes>"
      ]
     },
     "metadata": {},
     "output_type": "display_data"
    }
   ],
   "source": [
    "mpf.plot(df2[:80],figscale=0.3,type='line',volume=True,style='yahoo', tight_layout=True)"
   ]
  },
  {
   "cell_type": "code",
   "execution_count": null,
   "id": "52d1c586",
   "metadata": {},
   "outputs": [],
   "source": []
  }
 ],
 "metadata": {
  "kernelspec": {
   "display_name": "Python 3",
   "language": "python",
   "name": "python3"
  },
  "language_info": {
   "codemirror_mode": {
    "name": "ipython",
    "version": 3
   },
   "file_extension": ".py",
   "mimetype": "text/x-python",
   "name": "python",
   "nbconvert_exporter": "python",
   "pygments_lexer": "ipython3",
   "version": "3.8.3"
  }
 },
 "nbformat": 4,
 "nbformat_minor": 5
}
