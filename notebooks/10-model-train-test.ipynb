{
 "cells": [
  {
   "cell_type": "code",
   "execution_count": 417,
   "id": "b5e7cae5",
   "metadata": {},
   "outputs": [],
   "source": [
    "import requests\n",
    "import pandas as pd\n",
    "import numpy as np\n",
    "import datetime\n",
    "import matplotlib.pyplot as plt\n",
    "import pandas_ta as ta\n",
    "import mplfinance as mpf"
   ]
  },
  {
   "cell_type": "code",
   "execution_count": 418,
   "id": "184608c0",
   "metadata": {},
   "outputs": [],
   "source": [
    "url = 'https://min-api.cryptocompare.com/data/v2/histominute' +\\\n",
    "        '?fsym=ETH' +\\\n",
    "        '&tsym=USD' +\\\n",
    "        '&tryConversion=false' + \\\n",
    "        '&toTs=1622377009' + \\\n",
    "        '&limit=2000' +\\\n",
    "        '&aggregate=1'\n",
    "response = requests.get(url)\n",
    "data = response.json()['Data']['Data']\n",
    "\n",
    "df = pd.DataFrame(data)\n",
    "df['timestamp'] = [datetime.datetime.fromtimestamp(d) for d in df.time]"
   ]
  },
  {
   "cell_type": "code",
   "execution_count": 419,
   "id": "8bb1b245",
   "metadata": {},
   "outputs": [],
   "source": [
    "# print(response.json())"
   ]
  },
  {
   "cell_type": "code",
   "execution_count": 420,
   "id": "64f41566",
   "metadata": {},
   "outputs": [],
   "source": [
    "df2 = df.rename(columns={\"timestamp\": \"date\", \"open\": \"open\", \"high\": \"high\", \"low\": \"low\", \"close\": \"close\", \"volumefrom\": \"volume\"})\n",
    "df2 = df2[['date', 'open', 'high', 'low', 'close', 'volume']]\n",
    "df2.set_index('date', inplace=True)"
   ]
  },
  {
   "cell_type": "markdown",
   "id": "4dca01f2",
   "metadata": {},
   "source": [
    "### Calculate technical indicators"
   ]
  },
  {
   "cell_type": "code",
   "execution_count": 421,
   "id": "2c46846c",
   "metadata": {},
   "outputs": [],
   "source": [
    "df3 = df2.copy()\n",
    "# df3 = df3[1000:1600]\n",
    "\n",
    "df3['rsi'] = df3.ta.rsi()\n",
    "df3['atr'] = df3.ta.atr(length=20)\n",
    "df3['linreg_fast'] = df3.ta.linreg(length=20)\n",
    "df3['linreg_normal'] = df3.ta.linreg(length=50)\n",
    "df3['linereg_slow'] = df3.ta.linreg(length=200)\n",
    "df3['sma_fast'] = df3.ta.sma(length=20)\n",
    "df3['sma_slow'] = df3.ta.sma(length=200)\n",
    "df3['ema_fast'] = df3.ta.ema(length=20)\n",
    "df3['ema_slow'] = df3.ta.ema(length=200)\n",
    "\n",
    "st = df3.ta.supertrend()\n",
    "df3['supertrend'] = st['SUPERT_7_3.0']\n",
    "df3['supertrend_l'] = st['SUPERTl_7_3.0']\n",
    "#0-buy; 1-sell\n",
    "df3[['supertrend_signal']] = df3[['supertrend_l']].where(df3[['supertrend_l']].isnull(), 1).fillna(0).astype(int)\n",
    "df3 = df3.drop(columns=['supertrend_l'])\n",
    "\n",
    "# df3.tail()"
   ]
  },
  {
   "cell_type": "markdown",
   "id": "3d01b6c2",
   "metadata": {},
   "source": [
    "### Calculate model features"
   ]
  },
  {
   "cell_type": "code",
   "execution_count": 422,
   "id": "1535d538",
   "metadata": {},
   "outputs": [
    {
     "name": "stdout",
     "output_type": "stream",
     "text": [
      "Index(['open', 'high', 'low', 'close', 'volume', 'rsi', 'atr', 'linreg_fast',\n",
      "       'linreg_normal', 'linereg_slow', 'sma_fast', 'sma_slow', 'ema_fast',\n",
      "       'ema_slow', 'supertrend', 'supertrend_signal', 'close_ratio',\n",
      "       'low_ratio', 'high_ratio', 'volume_ratio', 'co_ratio', 'oc_diff',\n",
      "       'hl_diff', 'ema_fast_ratio', 'ema_slow_ratio'],\n",
      "      dtype='object')\n"
     ]
    }
   ],
   "source": [
    "df4 = df3.copy()\n",
    "\n",
    "df4['close_ratio'] = df4['close'].pct_change()\n",
    "df4['low_ratio'] = df4['low'].pct_change()\n",
    "df4['high_ratio'] = df4['high'].pct_change()\n",
    "df4['volume_ratio'] = df4['volume'].pct_change()\n",
    "df4['co_ratio'] = (df4['close'] - df4['open']) /df4['open']\n",
    "df4['oc_diff'] = (df4['open'] - df4['close'])\n",
    "df4['hl_diff'] = (df4['high'] - df4['low'])\n",
    "\n",
    "df4['ema_fast_ratio'] = df4['ema_fast'].pct_change()\n",
    "df4['ema_slow_ratio'] = df4['ema_slow'].pct_change()\n",
    "\n",
    "print(df4.columns)"
   ]
  },
  {
   "cell_type": "markdown",
   "id": "743b0a1d",
   "metadata": {},
   "source": [
    "### Calculate model target classes"
   ]
  },
  {
   "cell_type": "code",
   "execution_count": 507,
   "id": "47df7a05",
   "metadata": {},
   "outputs": [],
   "source": [
    "df5 = df4.copy()\n",
    "\n",
    "#TODO: this is too simple\n",
    "\n",
    "#nothing\n",
    "df5['signal'] = 0\n",
    "#buy\n",
    "df5.loc[df5['close'].shift(-20) > df5['close']*1.02, 'signal'] = 1\n",
    "#sell\n",
    "df5.loc[df5['close'].shift(-10) < df5['close']*0.99, 'signal'] = -1"
   ]
  },
  {
   "cell_type": "markdown",
   "id": "c77a781f",
   "metadata": {},
   "source": [
    "### Cleanup invalid data"
   ]
  },
  {
   "cell_type": "code",
   "execution_count": 508,
   "id": "afdd9312",
   "metadata": {},
   "outputs": [
    {
     "name": "stdout",
     "output_type": "stream",
     "text": [
      "2001\n",
      "1801\n"
     ]
    }
   ],
   "source": [
    "df6 = df5.copy()\n",
    "print(len(df6))\n",
    "\n",
    "df6 = df6.replace([np.inf, -np.inf], np.nan)\n",
    "df6 = df6.dropna()\n",
    "print(len(df6))\n",
    "\n",
    "# pd.set_option(\"display.max_rows\", None, \"display.max_columns\", None)\n",
    "# df6\n",
    "# df6.columns"
   ]
  },
  {
   "cell_type": "markdown",
   "id": "767551e1",
   "metadata": {},
   "source": [
    "### Select features and targets"
   ]
  },
  {
   "cell_type": "code",
   "execution_count": 495,
   "id": "234c2d39",
   "metadata": {},
   "outputs": [],
   "source": [
    "from tscv import GapKFold"
   ]
  },
  {
   "cell_type": "code",
   "execution_count": 509,
   "id": "e94cff87",
   "metadata": {},
   "outputs": [
    {
     "data": {
      "text/plain": [
       "Index(['open', 'high', 'low', 'close', 'volume', 'rsi', 'atr', 'linreg_fast',\n",
       "       'linreg_normal', 'linereg_slow', 'sma_fast', 'sma_slow', 'ema_fast',\n",
       "       'ema_slow', 'supertrend', 'supertrend_signal', 'close_ratio',\n",
       "       'low_ratio', 'high_ratio', 'volume_ratio', 'co_ratio', 'oc_diff',\n",
       "       'hl_diff', 'ema_fast_ratio', 'ema_slow_ratio', 'signal'],\n",
       "      dtype='object')"
      ]
     },
     "execution_count": 509,
     "metadata": {},
     "output_type": "execute_result"
    }
   ],
   "source": [
    "df7 = df6.copy()\n",
    "df7.columns"
   ]
  },
  {
   "cell_type": "code",
   "execution_count": 510,
   "id": "846422d2",
   "metadata": {},
   "outputs": [],
   "source": [
    "# X = df7[['open', 'high', 'low', 'close', 'volume', 'rsi', 'atr', 'linreg_fast', 'linreg_normal', \n",
    "#          'linereg_slow', 'sma_fast', 'sma_slow', 'ema_fast', 'ema_slow', 'supertrend', 'supertrend_signal', \n",
    "#          'close_ratio', 'low_ratio', 'high_ratio', 'volume_ratio', 'co_ratio', 'oc_diff', 'hl_diff']]\n",
    "# feat_names = ['oc_diff', 'hl_diff', 'low_ratio', 'high_ratio', 'volume_ratio']\n",
    "feat_names = ['oc_diff', 'hl_diff', 'ema_slow_ratio', 'ema_fast_ratio', 'rsi', 'volume_ratio']\n",
    "X = df7[feat_names]\n",
    "Y = df7['signal']\n",
    "\n",
    "#train/test selector for timeseries data\n",
    "# gkcv = GapKFold(n_splits=5, gap_before=2, gap_after=1)\n",
    "# for train_index, test_index in gkcv.split(X):\n",
    "#     X_train, X_test = X.values[train_index], X.values[test_index]\n",
    "#     y_train, y_test = Y[train_index], Y[test_index]\n",
    "#     print('Each split here')"
   ]
  },
  {
   "cell_type": "markdown",
   "id": "c7c0f500",
   "metadata": {},
   "source": [
    "### Train buy/sell model"
   ]
  },
  {
   "cell_type": "code",
   "execution_count": 511,
   "id": "81cd513b",
   "metadata": {},
   "outputs": [],
   "source": [
    "from sklearn.ensemble import RandomForestClassifier\n",
    "from sklearn.model_selection import cross_val_score\n",
    "from sklearn.model_selection import train_test_split\n",
    "from sklearn.utils.class_weight import compute_class_weight\n",
    "from imblearn.over_sampling import RandomOverSampler"
   ]
  },
  {
   "cell_type": "code",
   "execution_count": 512,
   "id": "7676fff7",
   "metadata": {},
   "outputs": [
    {
     "name": "stdout",
     "output_type": "stream",
     "text": [
      "Preparing train/test subdatasets...\n",
      "train_len=540 test_len=1261\n"
     ]
    }
   ],
   "source": [
    "df8 = df7.copy()\n",
    "\n",
    "print('Preparing train/test subdatasets...')\n",
    "X_train, X_test, Y_train, Y_test = train_test_split(X, Y, test_size=0.7, random_state=0, shuffle=False)\n",
    "print('train_len=%d test_len=%d' % (len(X_train), len(X_test)))\n",
    "# print(X_train.tail())\n",
    "# print(X_test.head())"
   ]
  },
  {
   "cell_type": "code",
   "execution_count": 513,
   "id": "92f99a5e",
   "metadata": {},
   "outputs": [
    {
     "name": "stdout",
     "output_type": "stream",
     "text": [
      "Classes balancing...\n",
      " 0    488\n",
      "-1     41\n",
      " 1     11\n",
      "Name: signal, dtype: int64\n",
      " 0    1655\n",
      " 1    1655\n",
      "-1    1655\n",
      "Name: signal, dtype: int64\n"
     ]
    }
   ],
   "source": [
    "print('Classes balancing...')\n",
    "\n",
    "print(Y_train.value_counts())\n",
    "ros = RandomOverSampler(sampling_strategy='all', random_state=42)\n",
    "X_train_bal, Y_train_bal = ros.fit_resample(X, Y)\n",
    "print(Y_train_bal.value_counts())\n",
    "\n",
    "# uclasses = np.unique(Y_train.values)\n",
    "# cw = compute_class_weight(\"balanced\", uclasses, Y_train.values)\n",
    "# weights = { c : cw[c] for c in uclasses }\n",
    "# weights = {-1:6, 0:1, 1:6}\n",
    "# print('class_weights: ', weights)"
   ]
  },
  {
   "cell_type": "code",
   "execution_count": 514,
   "id": "5077e5ed",
   "metadata": {},
   "outputs": [
    {
     "name": "stdout",
     "output_type": "stream",
     "text": [
      "Training model...\n",
      "Validating...\n",
      "Score (train): 1.00\n",
      "Score (test): 1.00\n"
     ]
    }
   ],
   "source": [
    "print('Training model...')\n",
    "rf_model = RandomForestClassifier(bootstrap=True, ccp_alpha=0.0, class_weight='balanced', max_leaf_nodes=None, min_impurity_decrease=0.0, min_impurity_split=None,min_samples_leaf=1,min_samples_split=2,min_weight_fraction_leaf=0.0,n_estimators=1000,random_state=0,verbose=0,\n",
    "warm_start=False).fit(X_train_bal,Y_train_bal)\n",
    "\n",
    "print('Validating...')\n",
    "# cv_score = cross_val_score(rf_buy, X_test, Y_test, cv=gkcv).mean()\n",
    "print('Score (train): %.2f' % rf_model.score(X_train, Y_train))\n",
    "print('Score (test): %.2f' % rf_model.score(X_test, Y_test))\n",
    "\n",
    "df8['signal_predicted'] = rf_model.predict(X)"
   ]
  },
  {
   "cell_type": "code",
   "execution_count": 515,
   "id": "1eba8462",
   "metadata": {},
   "outputs": [],
   "source": [
    "import sklearn\n",
    "from sklearn.inspection import permutation_importance\n",
    "from sklearn.metrics import plot_confusion_matrix\n",
    "from sklearn.metrics import classification_report"
   ]
  },
  {
   "cell_type": "code",
   "execution_count": 516,
   "id": "6b04ba2b",
   "metadata": {},
   "outputs": [
    {
     "name": "stdout",
     "output_type": "stream",
     "text": [
      "Feature importances:\n",
      "  - ema_slow_ratio: 0.23\n",
      "  - rsi: 0.20\n",
      "  - ema_fast_ratio: 0.17\n",
      "  - volume_ratio: 0.16\n",
      "  - hl_diff: 0.13\n",
      "  - oc_diff: 0.12\n"
     ]
    }
   ],
   "source": [
    "print(\"Feature importances:\")\n",
    "features = zip(X.columns, rf_model.feature_importances_)\n",
    "features = sorted(features, key = lambda t: t[1], reverse=True)\n",
    "for feat,imp in features:\n",
    "    print('  - %s: %.2f' % (feat,imp))"
   ]
  },
  {
   "cell_type": "code",
   "execution_count": 517,
   "id": "0f855030",
   "metadata": {},
   "outputs": [
    {
     "name": "stdout",
     "output_type": "stream",
     "text": [
      "Confusion matrix:\n",
      "[[  82    0    0]\n",
      " [   0 1167    0]\n",
      " [   0    0   12]]\n"
     ]
    },
    {
     "data": {
      "text/plain": [
       "<sklearn.metrics._plot.confusion_matrix.ConfusionMatrixDisplay at 0x7fe7ceb5a040>"
      ]
     },
     "execution_count": 517,
     "metadata": {},
     "output_type": "execute_result"
    },
    {
     "data": {
      "image/png": "[encoded data removed]",
      "text/plain": [
       "<Figure size 432x288 with 2 Axes>"
      ]
     },
     "metadata": {
      "needs_background": "light"
     },
     "output_type": "display_data"
    }
   ],
   "source": [
    "print('Confusion matrix:')\n",
    "Y_test_pred = rf_model.predict(X_test)\n",
    "cm = sklearn.metrics.confusion_matrix(Y_test, Y_test_pred)\n",
    "print(cm)\n",
    "plot_confusion_matrix(rf_model, X_test, Y_test) "
   ]
  },
  {
   "cell_type": "code",
   "execution_count": 518,
   "id": "755ca59f",
   "metadata": {},
   "outputs": [
    {
     "name": "stdout",
     "output_type": "stream",
     "text": [
      "              precision    recall  f1-score   support\n",
      "\n",
      "          -1       1.00      1.00      1.00        82\n",
      "           0       1.00      1.00      1.00      1167\n",
      "           1       1.00      1.00      1.00        12\n",
      "\n",
      "    accuracy                           1.00      1261\n",
      "   macro avg       1.00      1.00      1.00      1261\n",
      "weighted avg       1.00      1.00      1.00      1261\n",
      "\n"
     ]
    }
   ],
   "source": [
    "Y_test_pred = rf_model.predict(X_test)\n",
    "# print(classification_report(Y_test, Y_test_pred, target_names=['sell','none','buy']))\n",
    "print(classification_report(Y_test, Y_test_pred))"
   ]
  },
  {
   "cell_type": "markdown",
   "id": "00c8189f",
   "metadata": {},
   "source": [
    "### Show results on test subset"
   ]
  },
  {
   "cell_type": "code",
   "execution_count": 519,
   "id": "bd6b5742",
   "metadata": {},
   "outputs": [
    {
     "data": {
      "image/png": "[encoded data removed]",
      "text/plain": [
       "<Figure size 1440x360 with 1 Axes>"
      ]
     },
     "metadata": {
      "needs_background": "light"
     },
     "output_type": "display_data"
    }
   ],
   "source": [
    "df9 = df8.copy()\n",
    "# df9 = df9[:len(X_train)]\n",
    "# df9 = df9[len(X_train):]\n",
    "# print(len(df9))\n",
    "# df9 = df9[1000:]\n",
    "\n",
    "fig = plt.figure(figsize=(20, 5))\n",
    "buys = df9.loc[df9[\"signal_predicted\"] == 1]\n",
    "sells = df9.loc[df9[\"signal_predicted\"] == -1]\n",
    "plt.plot(df9.index, df9['close'], lw=1., marker='o', label='Price')\n",
    "plt.plot(buys.index, df9.loc[buys.index]['close'], '^', markersize=12, color='red', lw=2., label='Buy')\n",
    "plt.plot(sells.index, df9.loc[sells.index]['close'], 'v', markersize=12, color='green', lw=2., label='Sell')\n",
    "plt.vlines(X_test.index[0], ymin=np.min(df9['close'].values), ymax=np.max(df9['close'].values), colors='k', linestyles='dotted', label='<-train test->')\n",
    "plt.ylabel('Price')\n",
    "plt.xlabel('Date');\n",
    "plt.title('Buy and Sell signals')\n",
    "plt.legend(loc='best')\n",
    "plt.show()"
   ]
  },
  {
   "cell_type": "markdown",
   "id": "18bdb83f",
   "metadata": {},
   "source": [
    "### Backtesting"
   ]
  },
  {
   "cell_type": "code",
   "execution_count": null,
   "id": "a87c5ced",
   "metadata": {},
   "outputs": [],
   "source": []
  },
  {
   "cell_type": "code",
   "execution_count": null,
   "id": "9c949f92",
   "metadata": {},
   "outputs": [],
   "source": []
  },
  {
   "cell_type": "code",
   "execution_count": null,
   "id": "3d4e8246",
   "metadata": {},
   "outputs": [],
   "source": []
  }
 ],
 "metadata": {
  "kernelspec": {
   "display_name": "Python 3",
   "language": "python",
   "name": "python3"
  },
  "language_info": {
   "codemirror_mode": {
    "name": "ipython",
    "version": 3
   },
   "file_extension": ".py",
   "mimetype": "text/x-python",
   "name": "python",
   "nbconvert_exporter": "python",
   "pygments_lexer": "ipython3",
   "version": "3.8.3"
  }
 },
 "nbformat": 4,
 "nbformat_minor": 5
}
