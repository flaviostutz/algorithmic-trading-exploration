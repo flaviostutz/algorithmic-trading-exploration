{
 "cells": [
  {
   "cell_type": "code",
   "execution_count": 511,
   "id": "b5e7cae5",
   "metadata": {},
   "outputs": [],
   "source": [
    "import requests\n",
    "import pandas as pd\n",
    "import numpy as np\n",
    "import datetime\n",
    "import matplotlib.pyplot as plt\n",
    "import pandas_ta as ta\n",
    "import mplfinance as mpf\n",
    "\n",
    "import modules.cryptodownloader as cd"
   ]
  },
  {
   "cell_type": "markdown",
   "id": "b170ae8e",
   "metadata": {},
   "source": [
    "## Prepare dataset"
   ]
  },
  {
   "cell_type": "code",
   "execution_count": 512,
   "id": "184608c0",
   "metadata": {
    "scrolled": true
   },
   "outputs": [
    {
     "name": "stdout",
     "output_type": "stream",
     "text": [
      "Downloading BTC->USD pair price...\n",
      "Reusing cached results\n",
      "Reusing cached results\n",
      "Reusing cached results\n",
      "Reusing cached results\n",
      "Download complete. count=8000\n"
     ]
    }
   ],
   "source": [
    "dfa = cd.downloadIntraday('BTC', 'USD', 1622110000, 1622512350)"
   ]
  },
  {
   "cell_type": "code",
   "execution_count": 513,
   "id": "43373fc4",
   "metadata": {},
   "outputs": [
    {
     "name": "stdout",
     "output_type": "stream",
     "text": [
      "Downloading BTC->USD pair price...\n",
      "Reusing cached results\n",
      "Reusing cached results\n",
      "Reusing cached results\n",
      "Reusing cached results\n",
      "Reusing cached results\n",
      "Reusing cached results\n",
      "Download complete. count=10080\n"
     ]
    }
   ],
   "source": [
    "dfb = cd.downloadIntraday('BTC', 'USD', 1622572350, 1623172687)"
   ]
  },
  {
   "cell_type": "code",
   "execution_count": 514,
   "id": "c063b87b",
   "metadata": {},
   "outputs": [
    {
     "name": "stdout",
     "output_type": "stream",
     "text": [
      "Downloading BTC->USD pair price...\n",
      "Reusing cached results\n",
      "Reusing cached results\n",
      "Download complete. count=4000\n"
     ]
    }
   ],
   "source": [
    "dfc = cd.downloadIntraday('BTC', 'USD', 1623223687, 1623434504)"
   ]
  },
  {
   "cell_type": "code",
   "execution_count": 515,
   "id": "4df30b62",
   "metadata": {},
   "outputs": [
    {
     "name": "stdout",
     "output_type": "stream",
     "text": [
      "                         open      high       low     close  volume\n",
      "date                                                               \n",
      "2021-05-26 12:32:00  40204.31  40206.15  40154.19  40155.06  16.220\n",
      "2021-05-26 12:33:00  40155.06  40176.97  40132.05  40150.54  42.940\n",
      "2021-05-26 12:34:00  40150.54  40157.61  40114.13  40127.63  47.940\n",
      "2021-05-26 12:35:00  40127.63  40128.55  40069.08  40081.49  22.790\n",
      "2021-05-26 12:36:00  40081.49  40104.75  40073.63  40104.75  40.720\n",
      "...                       ...       ...       ...       ...     ...\n",
      "2021-06-01 01:47:00  37306.01  37306.01  37290.54  37295.28  10.360\n",
      "2021-06-01 01:48:00  37295.28  37333.51  37295.28  37315.14  27.720\n",
      "2021-06-01 01:49:00  37315.14  37330.90  37311.10  37330.87  21.700\n",
      "2021-06-01 01:50:00  37330.87  37367.66  37330.87  37356.29   6.169\n",
      "2021-06-01 01:51:00  37356.29  37366.99  37321.30  37328.20   7.304\n",
      "\n",
      "[8000 rows x 5 columns]\n",
      "                         open      high       low     close  volume\n",
      "date                                                               \n",
      "2021-06-01 17:18:00  35921.40  35945.86  35905.49  35908.27   36.08\n",
      "2021-06-01 17:19:00  35908.27  35943.34  35908.27  35930.10   16.49\n",
      "2021-06-01 17:20:00  35930.10  35941.13  35874.17  35874.41   39.24\n",
      "2021-06-01 17:21:00  35874.41  35886.86  35852.40  35886.86   28.51\n",
      "2021-06-01 17:22:00  35886.86  35903.18  35863.69  35875.46   32.69\n",
      "...                       ...       ...       ...       ...     ...\n",
      "2021-06-08 17:13:00  32168.02  32178.37  32110.27  32110.27   36.30\n",
      "2021-06-08 17:14:00  32110.27  32156.79  32108.28  32156.11   21.34\n",
      "2021-06-08 17:15:00  32156.11  32187.03  32094.68  32110.45   28.13\n",
      "2021-06-08 17:16:00  32110.45  32110.45  32008.14  32009.31   57.69\n",
      "2021-06-08 17:17:00  32009.31  32034.90  32000.27  32032.40   49.57\n",
      "\n",
      "[10080 rows x 5 columns]\n",
      "                         open      high       low     close  volume\n",
      "date                                                               \n",
      "2021-06-08 23:21:00  33522.15  33569.29  33511.33  33562.62  13.630\n",
      "2021-06-08 23:22:00  33562.62  33581.76  33552.60  33581.17   8.922\n",
      "2021-06-08 23:23:00  33581.17  33634.82  33577.90  33621.36  28.510\n",
      "2021-06-08 23:24:00  33621.36  33621.36  33576.10  33582.43  13.640\n",
      "2021-06-08 23:25:00  33582.43  33605.84  33576.29  33583.64  26.380\n",
      "...                       ...       ...       ...       ...     ...\n",
      "2021-06-11 17:56:00  36905.26  36908.50  36889.83  36897.35   4.375\n",
      "2021-06-11 17:57:00  36897.35  36933.53  36895.46  36923.60  70.030\n",
      "2021-06-11 17:58:00  36923.60  36923.60  36905.53  36916.39   6.520\n",
      "2021-06-11 17:59:00  36916.39  36926.78  36916.39  36924.09  16.550\n",
      "2021-06-11 18:00:00  36924.09  36928.14  36900.43  36901.05  14.280\n",
      "\n",
      "[4000 rows x 5 columns]\n",
      "22080\n"
     ]
    }
   ],
   "source": [
    "print(dfa)\n",
    "print(dfb)\n",
    "print(dfc)\n",
    "\n",
    "df = pd.DataFrame(dfa)\n",
    "df = df.append(dfb)\n",
    "df = df.append(dfc)\n",
    "print(len(df))\n",
    "# df[df.duplicated()]"
   ]
  },
  {
   "cell_type": "markdown",
   "id": "4dca01f2",
   "metadata": {},
   "source": [
    "### Calculate technical indicators"
   ]
  },
  {
   "cell_type": "code",
   "execution_count": 516,
   "id": "2c46846c",
   "metadata": {},
   "outputs": [],
   "source": [
    "df3 = df.copy()\n",
    "# df3 = df3[1000:1600]\n",
    "\n",
    "df3['rsi'] = df3.ta.rsi()\n",
    "df3['atr'] = df3.ta.atr(length=20)\n",
    "df3['linreg_fast'] = df3.ta.linreg(length=20)\n",
    "df3['linreg_normal'] = df3.ta.linreg(length=50)\n",
    "df3['linreg_slow'] = df3.ta.linreg(length=200)\n",
    "df3['sma_fast'] = df3.ta.sma(length=20)\n",
    "df3['sma_slow'] = df3.ta.sma(length=200)\n",
    "df3['ema_fast'] = df3.ta.ema(length=20)\n",
    "df3['ema_slow'] = df3.ta.ema(length=200)\n",
    "df3['vwap'] = df3.ta.vwap(length=20)\n",
    "\n",
    "st = df3.ta.supertrend()\n",
    "df3['supertrend'] = st['SUPERT_7_3.0']\n",
    "df3['supertrend_l'] = st['SUPERTl_7_3.0']\n",
    "#0-buy; 1-sell\n",
    "df3[['supertrend_signal']] = df3[['supertrend_l']].where(df3[['supertrend_l']].isnull(), 1).fillna(0).astype(int)\n",
    "df3 = df3.drop(columns=['supertrend_l'])\n",
    "\n",
    "# df3.tail()"
   ]
  },
  {
   "cell_type": "markdown",
   "id": "c1bb8656",
   "metadata": {},
   "source": [
    "### Feature engineering"
   ]
  },
  {
   "cell_type": "code",
   "execution_count": 517,
   "id": "a7a39612",
   "metadata": {},
   "outputs": [
    {
     "name": "stdout",
     "output_type": "stream",
     "text": [
      "Index(['open', 'high', 'low', 'close', 'volume', 'rsi', 'atr', 'linreg_fast',\n",
      "       'linreg_normal', 'linreg_slow', 'sma_fast', 'sma_slow', 'ema_fast',\n",
      "       'ema_slow', 'vwap', 'supertrend', 'supertrend_signal', 'close_ratio',\n",
      "       'low_ratio', 'high_ratio', 'volume_ratio', 'vwap_ratio',\n",
      "       'vwap_close_diff', 'co_ratio', 'oc_diff', 'hl_diff', 'dir',\n",
      "       'sma_slow_close_diff', 'sma_fast_close_diff', 'ema_fast_ratio',\n",
      "       'ema_slow_ratio'],\n",
      "      dtype='object')\n"
     ]
    }
   ],
   "source": [
    "df4 = df3.copy()\n",
    "\n",
    "df4['close_ratio'] = df4['close'].pct_change()\n",
    "df4['low_ratio'] = df4['low'].pct_change()\n",
    "df4['high_ratio'] = df4['high'].pct_change()\n",
    "df4['volume_ratio'] = df4['volume'].pct_change()\n",
    "df4['vwap_ratio'] = df4['vwap'].pct_change()\n",
    "df4['vwap_close_diff'] = df4['vwap'] - df4['close']\n",
    "df4['co_ratio'] = (df4['close'] - df4['open']) /df4['open']\n",
    "df4['oc_diff'] = (df4['open'] - df4['close'])\n",
    "df4['hl_diff'] = (df4['high'] - df4['low'])\n",
    "df4['dir'] = (df4['close'].shift(-1) - df4['close'])\n",
    "df4['sma_slow_close_diff'] = df4['sma_slow'] - df4['close']\n",
    "df4['sma_fast_close_diff'] = df4['sma_fast'] - df4['close']\n",
    "\n",
    "df4['ema_fast_ratio'] = df4['ema_fast'].pct_change()\n",
    "df4['ema_slow_ratio'] = df4['ema_slow'].pct_change()\n",
    "\n",
    "print(df4.columns)"
   ]
  },
  {
   "cell_type": "code",
   "execution_count": 518,
   "id": "f5cdb60a",
   "metadata": {},
   "outputs": [],
   "source": [
    "# trans = PolynomialFeatures(degree=3)\n",
    "# data = trans.fit_transform(data)"
   ]
  },
  {
   "cell_type": "markdown",
   "id": "e2f95e9e",
   "metadata": {},
   "source": [
    "### Calculate true classes"
   ]
  },
  {
   "cell_type": "code",
   "execution_count": 1254,
   "id": "1e1b8ad9",
   "metadata": {},
   "outputs": [],
   "source": [
    "df5 = df4.copy()\n",
    "\n",
    "#TODO: this is too simple\n",
    "\n",
    "#nothing\n",
    "df5['signal'] = 0\n",
    "\n",
    "# df5['l'] = 3\n",
    "# df5['h'] = 2\n",
    "\n",
    "# df5['close_prev'] = df5['close'].shift(periods=40)\n",
    "df5['close_next'] = df5['close'].shift(periods=-120)\n",
    "\n",
    "# print(df5[['close_prev','close','close_next']])\n",
    "\n",
    "#buy\n",
    "df5.loc[df5['close_next'] > df5['close']*1.03, 'signal'] = 1\n",
    "# df5.loc[df5['close']*1.05 < df5['close'].shift(-300), 'signal'] = 1\n",
    "\n",
    "#sell\n",
    "# df5.loc[df5['close_next'] < df5['close']*0.98, 'signal'] = 2\n",
    "# df5.loc[df5['close']*0.98 > df5['close'].shift(+30), 'signal'] = 2\n"
   ]
  },
  {
   "cell_type": "code",
   "execution_count": 1255,
   "id": "63d331e1",
   "metadata": {},
   "outputs": [
    {
     "data": {
      "image/png": "[encoded data removed]",
      "text/plain": [
       "<Figure size 1440x360 with 1 Axes>"
      ]
     },
     "metadata": {
      "needs_background": "light"
     },
     "output_type": "display_data"
    }
   ],
   "source": [
    "dfg = df5.copy()\n",
    "# dfg = dfg[2000:5000]\n",
    "fig = plt.figure(figsize=(20, 5))\n",
    "buys = dfg.loc[df5[\"signal\"] == 1]\n",
    "sells = dfg.loc[df5[\"signal\"] == 2]\n",
    "plt.plot(dfg.index, dfg['close'], lw=1., marker='.', label='Price')\n",
    "plt.plot(buys.index, dfg.loc[buys.index]['close'], '^', markersize=12, color='red', lw=2., label='Buy')\n",
    "plt.plot(sells.index, dfg.loc[sells.index]['close'], 'v', markersize=12, color='green', lw=2., label='Sell')\n",
    "# plt.vlines(X_test.index[0], ymin=np.min(df5['close'].values), ymax=np.max(df5['close'].values), colors='k', linestyles='dotted', label='<-train test->')\n",
    "plt.ylabel('Price')\n",
    "plt.xlabel('Date')\n",
    "plt.title('Buy and Sell signals')\n",
    "plt.legend(loc='best')\n",
    "plt.show()"
   ]
  },
  {
   "cell_type": "markdown",
   "id": "ebfeb3c4",
   "metadata": {},
   "source": [
    "### Cleanup invalid data"
   ]
  },
  {
   "cell_type": "code",
   "execution_count": 1256,
   "id": "66912c18",
   "metadata": {},
   "outputs": [
    {
     "name": "stdout",
     "output_type": "stream",
     "text": [
      "22080\n",
      "21760\n"
     ]
    }
   ],
   "source": [
    "df6 = df5.copy()\n",
    "print(len(df6))\n",
    "\n",
    "df6 = df6.replace([np.inf, -np.inf], np.nan)\n",
    "df6 = df6.dropna()\n",
    "print(len(df6))\n",
    "\n",
    "# pd.set_option(\"display.max_rows\", None, \"display.max_columns\", None)\n",
    "# df6\n",
    "# df6.columns"
   ]
  },
  {
   "cell_type": "markdown",
   "id": "c8f3eedd",
   "metadata": {},
   "source": [
    "### Select features and targets"
   ]
  },
  {
   "cell_type": "code",
   "execution_count": 1257,
   "id": "a92c6ecd",
   "metadata": {},
   "outputs": [
    {
     "data": {
      "text/plain": [
       "Index(['open', 'high', 'low', 'close', 'volume', 'rsi', 'atr', 'linreg_fast',\n",
       "       'linreg_normal', 'linreg_slow', 'sma_fast', 'sma_slow', 'ema_fast',\n",
       "       'ema_slow', 'vwap', 'supertrend', 'supertrend_signal', 'close_ratio',\n",
       "       'low_ratio', 'high_ratio', 'volume_ratio', 'vwap_ratio',\n",
       "       'vwap_close_diff', 'co_ratio', 'oc_diff', 'hl_diff', 'dir',\n",
       "       'sma_slow_close_diff', 'sma_fast_close_diff', 'ema_fast_ratio',\n",
       "       'ema_slow_ratio', 'signal', 'close_next'],\n",
       "      dtype='object')"
      ]
     },
     "execution_count": 1257,
     "metadata": {},
     "output_type": "execute_result"
    }
   ],
   "source": [
    "df7 = df6.copy()\n",
    "df7.columns"
   ]
  },
  {
   "cell_type": "code",
   "execution_count": 1258,
   "id": "846422d2",
   "metadata": {},
   "outputs": [],
   "source": [
    "# X = df7[['open', 'high', 'low', 'close', 'volume', 'rsi', 'atr', 'linreg_fast', 'linreg_normal', \n",
    "#          'linereg_slow', 'sma_fast', 'sma_slow', 'ema_fast', 'ema_slow', 'supertrend', 'supertrend_signal', \n",
    "#          'close_ratio', 'low_ratio', 'high_ratio', 'volume_ratio', 'co_ratio', 'oc_diff', 'hl_diff']]\n",
    "# feat_names = ['oc_diff', 'hl_diff', 'low_ratio', 'high_ratio', 'volume_ratio']\n",
    "feat_names = ['open', 'high', 'low', 'close', 'volume', 'rsi', 'atr', 'linreg_fast', 'linreg_normal',\n",
    "              'linreg_slow', 'sma_fast', 'sma_slow', 'ema_fast', 'ema_slow', 'supertrend', 'supertrend_signal', \n",
    "              'close_ratio', 'low_ratio', 'high_ratio', 'volume_ratio', 'co_ratio', 'oc_diff', 'hl_diff', 'dir',\n",
    "              'ema_fast_ratio', 'ema_slow_ratio', 'vwap', 'vwap_ratio', 'vwap_close_diff',\n",
    "              'sma_slow_close_diff', 'sma_fast_close_diff']\n",
    "# feat_names = ['close']\n",
    "X = df7[feat_names]\n",
    "Y = df7['signal']\n",
    "\n",
    "#train/test selector for timeseries data\n",
    "# gkcv = GapKFold(n_splits=5, gap_before=2, gap_after=1)\n",
    "# for train_index, test_index in gkcv.split(X):\n",
    "#     X_train, X_test = X.values[train_index], X.values[test_index]\n",
    "#     y_train, y_test = Y[train_index], Y[test_index]\n",
    "#     print('Each split here')"
   ]
  },
  {
   "cell_type": "markdown",
   "id": "3ca21e9c",
   "metadata": {},
   "source": [
    "### Standard/normalize/center features considering the relation between them"
   ]
  },
  {
   "cell_type": "code",
   "execution_count": 1259,
   "id": "85497e05",
   "metadata": {},
   "outputs": [
    {
     "name": "stdout",
     "output_type": "stream",
     "text": [
      "26\n",
      "-1.0\n",
      "1.0000000000000009\n",
      "(21760, 26)\n"
     ]
    }
   ],
   "source": [
    "from sklearn import preprocessing\n",
    "from sklearn import pipeline\n",
    "\n",
    "price_columns = ['open','high','low','close',\n",
    "                 'linreg_fast','linreg_normal','linreg_slow',\n",
    "                 'sma_fast','sma_slow','ema_fast','ema_slow', \n",
    "                 'supertrend', \n",
    "                 'close_ratio','low_ratio','high_ratio','co_ratio',\n",
    "                 'oc_diff','hl_diff','sma_slow_close_diff','sma_fast_close_diff','dir']\n",
    "\n",
    "volume_columns = ['volume','volume_ratio']\n",
    "\n",
    "# stdscaler = preprocessing.StandardScaler().fit(X[price_columns])\n",
    "# normalizer = preprocessing.Normalizer().fit(tx_train)\n",
    "# polyfeat = preprocessing.PolynomialFeatures().fit(tx_train)\n",
    "# pipe = pipeline.make_pipeline(maxscaler)\n",
    "# a = pipe.transform(X[price_columns])\n",
    "\n",
    "prices_scaler = preprocessing.MinMaxScaler().fit(X[price_columns])\n",
    "prices = (prices_scaler.transform(X[price_columns])-0.5) * 2\n",
    "\n",
    "volumes_scaler = preprocessing.MinMaxScaler().fit(X[volume_columns])\n",
    "volumes = (volumes_scaler.transform(X[volume_columns])-0.5) * 2\n",
    "\n",
    "rsi_scaler = preprocessing.MinMaxScaler().fit(X[['rsi']])\n",
    "rsis = (rsi_scaler.transform(X[['rsi']])-0.5) * 2\n",
    "\n",
    "atr_scaler = preprocessing.MinMaxScaler().fit(X[['atr']])\n",
    "atrs = (atr_scaler.transform(X[['atr']])-0.5) * 2\n",
    "\n",
    "ssignal = (X[['supertrend_signal']]-0.5) * 2\n",
    "\n",
    "r = prices\n",
    "r = np.append(r, volumes, axis=1)\n",
    "r = np.append(r, rsis, axis=1)\n",
    "r = np.append(r, atrs, axis=1)\n",
    "r = np.append(r, ssignal, axis=1)\n",
    "\n",
    "X_prep = r\n",
    "\n",
    "input_columns = X_prep.shape[1]\n",
    "print(input_columns)\n",
    "print(np.min(np.min(X_prep)))\n",
    "print(np.max(np.max(X_prep)))\n",
    "print(X_prep.shape)"
   ]
  },
  {
   "cell_type": "code",
   "execution_count": 1260,
   "id": "37d5cc53",
   "metadata": {},
   "outputs": [],
   "source": [
    "# import tensorflow as tf\n",
    "# import tensorflow_transform as tft\n",
    "# import tensorflow_transform.beam as tft_beam\n",
    "# import tempfile\n",
    "\n",
    "# from sklearn import pipeline\n",
    "# from sklearn import preprocessing\n",
    "\n",
    "# tf.config.experimental_run_functions_eagerly(True)\n",
    "\n",
    "# def preprocessing_fn(inputs):\n",
    "#     \"\"\"Preprocess input columns into transformed columns.\"\"\"\n",
    "#     c = inputs['close']\n",
    "#     c_centered = c - tft.mean(c)\n",
    "#     c_normalized = tft.scale_to_0_1(c)\n",
    "#     c_centered_times_y_normalized = (c_centered * c_normalized)\n",
    "#     return {\n",
    "#         'c_centered_times_c_normalized': c_centered_times_c_normalized,\n",
    "#     }\n",
    "\n",
    "# with tft_beam.Context(temp_dir=tempfile.mkdtemp()):    \n",
    "#     transform_fn = X[['close']] | tft_beam.AnalyzeDataset(preprocessing_fn)\n",
    "#     transformed_data = (X['close'], transform_fn) | tft_beam.TransformDataset()\n",
    "\n",
    "#     transformed_dataset, transform_fn = ((raw_data, raw_data_metadata) | tft_beam.AnalyzeAndTransformDataset(preprocessing_fn))\n",
    "#     transformed_data, transformed_metadata = transformed_dataset\n",
    "\n",
    "# print('Transformed data:\\n{}'.format(pprint.pformat(transformed_data)))\n",
    "\n",
    "\n",
    "#not independent\n",
    "# X_minmax = tft.scale_by_min_max(\n",
    "#     test,\n",
    "#     output_min = 0.0,\n",
    "#     output_max = 1.0,\n",
    "#     elementwise = True\n",
    "# )\n",
    "\n",
    "# with tf.compat.v1.Session() as sess:\n",
    "#     hello = tf.constant('hello world')\n",
    "#     print(sess.run(X_minmax))\n",
    "\n",
    "\n",
    "# with sess.as_default():\n",
    "#     msg = tf.constant('Hello, TensorFlow!')\n",
    "#     tf.print(msg.eval())\n",
    "\n",
    "# with tf.compat.Session() as sess:\n",
    "#     sess.run(X_minmax)\n",
    "# v = X_minmax.eval(session=tf.compat.v1.Session())\n",
    "\n",
    "# v = X_minmax.numpy()\n",
    "\n",
    "# X_std = tf.keras.utils.normalize(X, axis=-1, order=0)\n",
    "# print(X_std)"
   ]
  },
  {
   "cell_type": "code",
   "execution_count": 1261,
   "id": "81d6a2e7",
   "metadata": {
    "scrolled": false
   },
   "outputs": [
    {
     "data": {
      "text/plain": [
       "-0.0626163831641326"
      ]
     },
     "execution_count": 1261,
     "metadata": {},
     "output_type": "execute_result"
    }
   ],
   "source": [
    "X_prep.mean()"
   ]
  },
  {
   "cell_type": "markdown",
   "id": "97152127",
   "metadata": {},
   "source": [
    "### Balance classes"
   ]
  },
  {
   "cell_type": "code",
   "execution_count": 1262,
   "id": "1610fe63",
   "metadata": {},
   "outputs": [],
   "source": [
    "from sklearn.model_selection import train_test_split\n",
    "from sklearn.utils.class_weight import compute_class_weight\n",
    "from imblearn.over_sampling import RandomOverSampler\n",
    "from imblearn.under_sampling import RandomUnderSampler"
   ]
  },
  {
   "cell_type": "code",
   "execution_count": 1263,
   "id": "803ff900",
   "metadata": {},
   "outputs": [
    {
     "name": "stdout",
     "output_type": "stream",
     "text": [
      "Classes balancing...\n",
      "Before:\n",
      "signal\n",
      "0         21218\n",
      "1           542\n",
      "dtype: int64\n",
      "After:\n",
      "signal\n",
      "0         542\n",
      "1         542\n",
      "dtype: int64\n"
     ]
    },
    {
     "data": {
      "image/png": "[encoded data removed]",
      "text/plain": [
       "<Figure size 432x288 with 1 Axes>"
      ]
     },
     "metadata": {},
     "output_type": "display_data"
    }
   ],
   "source": [
    "print('Classes balancing...')\n",
    "\n",
    "print('Before:')\n",
    "print(pd.DataFrame(Y).value_counts())\n",
    "\n",
    "rs = RandomUnderSampler(sampling_strategy='all', random_state=42)\n",
    "# rs = RandomOverSampler(sampling_strategy='all', random_state=42)\n",
    "X_bal, Y_bal = rs.fit_resample(X_prep, Y)\n",
    "\n",
    "print('After:')\n",
    "print(pd.DataFrame(Y_bal).value_counts())\n",
    "\n",
    "ax = Y_bal.value_counts().plot.pie(autopct='%.1f%%')\n",
    "_ = ax.set_title(\"Classes distribution\")\n",
    "\n",
    "# X_train, X_test, Y_train, Y_test = X_train_bal, X_test_bal, Y_train_bal, Y_test_bal\n",
    "# print(X_train_bal)\n",
    "\n",
    "# uclasses = np.unique(Y_train.values)\n",
    "# cw = compute_class_weight(\"balanced\", uclasses, Y_train.values)\n",
    "# weights = { c : cw[c] for c in uclasses }\n",
    "# # weights = {-1:6, 0:1, 1:6}\n",
    "# print('class_weights: ', weights)"
   ]
  },
  {
   "cell_type": "markdown",
   "id": "842bb58a",
   "metadata": {},
   "source": [
    "### Split train/test subsets"
   ]
  },
  {
   "cell_type": "code",
   "execution_count": 1264,
   "id": "ba026ef3",
   "metadata": {},
   "outputs": [
    {
     "name": "stdout",
     "output_type": "stream",
     "text": [
      "Preparing train/test subdatasets...\n",
      "train_len=867 test_len=217\n"
     ]
    }
   ],
   "source": [
    "print('Preparing train/test subdatasets...')\n",
    "X_train, X_test, Y_train, Y_test = train_test_split(X_bal, Y_bal, test_size=0.2, random_state=0, shuffle=True)\n",
    "print('train_len=%d test_len=%d' % (len(X_train), len(X_test)))\n",
    "# print(X_train.tail())\n",
    "# print(X_test.head())"
   ]
  },
  {
   "cell_type": "code",
   "execution_count": 1265,
   "id": "a8bc10d7",
   "metadata": {},
   "outputs": [
    {
     "name": "stdout",
     "output_type": "stream",
     "text": [
      "signal\n",
      "0         447\n",
      "1         420\n",
      "dtype: int64\n"
     ]
    },
    {
     "data": {
      "image/png": "[encoded data removed]",
      "text/plain": [
       "<Figure size 432x288 with 1 Axes>"
      ]
     },
     "metadata": {},
     "output_type": "display_data"
    }
   ],
   "source": [
    "bx = Y_train.value_counts().plot.pie(autopct='%.1f%%')\n",
    "_ = bx.set_title(\"Classes distribution (train)\")\n",
    "print(pd.DataFrame(Y_train).value_counts())"
   ]
  },
  {
   "cell_type": "code",
   "execution_count": 1266,
   "id": "5ad556be",
   "metadata": {},
   "outputs": [
    {
     "name": "stdout",
     "output_type": "stream",
     "text": [
      "signal\n",
      "1         122\n",
      "0          95\n",
      "dtype: int64\n"
     ]
    },
    {
     "data": {
      "image/png": "[encoded data removed]",
      "text/plain": [
       "<Figure size 432x288 with 1 Axes>"
      ]
     },
     "metadata": {},
     "output_type": "display_data"
    }
   ],
   "source": [
    "cx = Y_test.value_counts().plot.pie(autopct='%.1f%%')\n",
    "_ = cx.set_title(\"Classes distribution (test)\")\n",
    "print(pd.DataFrame(Y_test).value_counts())"
   ]
  },
  {
   "cell_type": "markdown",
   "id": "36a69ec0",
   "metadata": {},
   "source": [
    "## Model training"
   ]
  },
  {
   "cell_type": "code",
   "execution_count": 1267,
   "id": "b25bcc62",
   "metadata": {},
   "outputs": [],
   "source": [
    "from sklearn.model_selection import cross_val_score\n",
    "from sklearn import metrics\n",
    "from sklearn import ensemble\n",
    "from sklearn import model_selection\n",
    "from sklearn import svm\n",
    "from sklearn import neural_network"
   ]
  },
  {
   "cell_type": "markdown",
   "id": "bcd95a46",
   "metadata": {},
   "source": [
    "### RandomForest"
   ]
  },
  {
   "cell_type": "code",
   "execution_count": 1268,
   "id": "f01a0e75",
   "metadata": {},
   "outputs": [],
   "source": [
    "# print('Training with RandomForest...')\n",
    "# rf_model = ensemble.RandomForestClassifier(bootstrap=True, ccp_alpha=0.0, class_weight='balanced', max_leaf_nodes=None, min_impurity_decrease=0.0, min_impurity_split=None,min_samples_leaf=1,min_samples_split=2,min_weight_fraction_leaf=0.0,n_estimators=1000,random_state=0,verbose=0,\n",
    "# warm_start=False).fit(X_train,Y_train)\n",
    "\n",
    "# print('Validating...')\n",
    "# # cv_score = cross_val_score(rf_buy, X_test, Y_test, cv=gkcv).mean()\n",
    "# print('Score (train): %.2f' % rf_model.score(X_train, Y_train))\n",
    "# print('Score (test): %.2f' % rf_model.score(X_test, Y_test))\n",
    "\n",
    "# Y_test_pred = rf_model.predict(X_test)\n",
    "# kappa = cohen_kappa_score(Y_test_pred, Y_test)\n",
    "# print('Kappa=%.2f' % kappa)"
   ]
  },
  {
   "cell_type": "markdown",
   "id": "0bedb3a6",
   "metadata": {},
   "source": [
    "### SVC"
   ]
  },
  {
   "cell_type": "code",
   "execution_count": 1269,
   "id": "045cee89",
   "metadata": {},
   "outputs": [
    {
     "name": "stdout",
     "output_type": "stream",
     "text": [
      "Training with SVC...\n",
      "Score (train): 0.82\n",
      "Score (test): 0.81\n"
     ]
    }
   ],
   "source": [
    "print('Training with SVC...')\n",
    "\n",
    "model = svm.SVC(kernel='poly', degree=12)\n",
    "# model = neural_network.BernoulliRBM(n_iter=1000)\n",
    "# model = neural_network.MLPClassifier(hidden_layer_sizes=(800,800), max_iter=800)\n",
    "\n",
    "# BEST\n",
    "# model = svm.SVC(kernel='poly', degree=12)\n",
    "# Score (train): 0.66\n",
    "# Score (test): 0.65\n",
    "# kappa=0.48\n",
    "\n",
    "model.fit(X_train,Y_train)\n",
    "print('Score (train): %.2f' % model.score(X_train, Y_train))\n",
    "print('Score (test): %.2f' % model.score(X_test, Y_test))"
   ]
  },
  {
   "cell_type": "code",
   "execution_count": 1270,
   "id": "2b72fb9b",
   "metadata": {},
   "outputs": [
    {
     "name": "stdout",
     "output_type": "stream",
     "text": [
      "kappa=0.61\n",
      "f1 score=0.81\n"
     ]
    }
   ],
   "source": [
    "Y_test_pred = model.predict(X_test)\n",
    "\n",
    "#use on classification\n",
    "kappa = metrics.cohen_kappa_score(Y_test_pred, Y_test)\n",
    "print('kappa=%.2f' % kappa)\n",
    "f1 = metrics.f1_score(Y_test_pred, Y_test, average='weighted')\n",
    "print('f1 score=%.2f' % f1)\n",
    "\n",
    "# use on regression\n",
    "# print(\"R2 score (test):\", sklearn.metrics.r2_score(Y_test_bal, Y_test_pred_bal))"
   ]
  },
  {
   "cell_type": "code",
   "execution_count": 1271,
   "id": "884b4407",
   "metadata": {},
   "outputs": [
    {
     "data": {
      "text/plain": [
       "<sklearn.metrics._plot.confusion_matrix.ConfusionMatrixDisplay at 0x7f59cfa606a0>"
      ]
     },
     "execution_count": 1271,
     "metadata": {},
     "output_type": "execute_result"
    },
    {
     "data": {
      "image/png": "[encoded data removed]",
      "text/plain": [
       "<Figure size 432x288 with 2 Axes>"
      ]
     },
     "metadata": {
      "needs_background": "light"
     },
     "output_type": "display_data"
    }
   ],
   "source": [
    "# Y_test_pred = model.predict(X_test)\n",
    "# cm = metrics.confusion_matrix(Y_test, Y_test_pred)\n",
    "# print(cm)\n",
    "metrics.plot_confusion_matrix(model, X_test, Y_test) "
   ]
  },
  {
   "cell_type": "code",
   "execution_count": 1183,
   "id": "f364a2fd",
   "metadata": {},
   "outputs": [],
   "source": [
    "# print('Doing cross validation training...')\n",
    "# cv_score = cross_val_score(model, X_train_bal, Y_train_bal, cv=5).mean()\n",
    "# print(\"Cross validation score: %.2f\" % cv_score)"
   ]
  },
  {
   "cell_type": "markdown",
   "id": "a30ce3cc",
   "metadata": {},
   "source": [
    "### CNN with TensorFlow"
   ]
  },
  {
   "cell_type": "markdown",
   "id": "6edcf028",
   "metadata": {},
   "source": [
    "#### Prepare data"
   ]
  },
  {
   "cell_type": "code",
   "execution_count": 1277,
   "id": "1f4452bd",
   "metadata": {},
   "outputs": [
    {
     "name": "stdout",
     "output_type": "stream",
     "text": [
      "(867, 26, 1)\n",
      "(867, 2)\n"
     ]
    }
   ],
   "source": [
    "from keras.utils.np_utils import to_categorical\n",
    "\n",
    "num_classes = 2\n",
    "\n",
    "#one hot encoding\n",
    "ty_bal_onehot = to_categorical(Y_bal)\n",
    "# print(Y_bal_onehot)\n",
    "\n",
    "# print(X_bal)\n",
    "tx_bal = np.reshape(np.array(X_bal), (-1,input_columns,1))\n",
    "# ty_bal_onehot2 = np.reshape(np.array(ty_bal_onehot), (-1,2,1))\n",
    "# print(tx_bal)\n",
    "\n",
    "#split train/test\n",
    "tx_train, tx_test, ty_train, ty_test = train_test_split(tx_bal, ty_bal_onehot, test_size=0.2, random_state=0, shuffle=False)\n",
    "print(tx_train.shape)\n",
    "print(ty_train.shape)\n",
    "# print(tx_train)"
   ]
  },
  {
   "cell_type": "markdown",
   "id": "fcc24215",
   "metadata": {},
   "source": [
    "#### Prepare model"
   ]
  },
  {
   "cell_type": "code",
   "execution_count": 1278,
   "id": "1b300f23",
   "metadata": {
    "scrolled": false
   },
   "outputs": [
    {
     "name": "stdout",
     "output_type": "stream",
     "text": [
      "Model: \"sequential_22\"\n",
      "_________________________________________________________________\n",
      "Layer (type)                 Output Shape              Param #   \n",
      "=================================================================\n",
      "conv1d_62 (Conv1D)           (None, 26, 512)           2048      \n",
      "_________________________________________________________________\n",
      "leaky_re_lu_80 (LeakyReLU)   (None, 26, 512)           0         \n",
      "_________________________________________________________________\n",
      "max_pooling1d_60 (MaxPooling (None, 9, 512)            0         \n",
      "_________________________________________________________________\n",
      "dropout_80 (Dropout)         (None, 9, 512)            0         \n",
      "_________________________________________________________________\n",
      "conv1d_63 (Conv1D)           (None, 9, 512)            1573376   \n",
      "_________________________________________________________________\n",
      "leaky_re_lu_81 (LeakyReLU)   (None, 9, 512)            0         \n",
      "_________________________________________________________________\n",
      "max_pooling1d_61 (MaxPooling (None, 3, 512)            0         \n",
      "_________________________________________________________________\n",
      "dropout_81 (Dropout)         (None, 3, 512)            0         \n",
      "_________________________________________________________________\n",
      "conv1d_64 (Conv1D)           (None, 3, 512)            1049088   \n",
      "_________________________________________________________________\n",
      "leaky_re_lu_82 (LeakyReLU)   (None, 3, 512)            0         \n",
      "_________________________________________________________________\n",
      "max_pooling1d_62 (MaxPooling (None, 1, 512)            0         \n",
      "_________________________________________________________________\n",
      "dropout_82 (Dropout)         (None, 1, 512)            0         \n",
      "_________________________________________________________________\n",
      "flatten_20 (Flatten)         (None, 512)               0         \n",
      "_________________________________________________________________\n",
      "dense_40 (Dense)             (None, 256)               131328    \n",
      "_________________________________________________________________\n",
      "leaky_re_lu_83 (LeakyReLU)   (None, 256)               0         \n",
      "_________________________________________________________________\n",
      "dropout_83 (Dropout)         (None, 256)               0         \n",
      "_________________________________________________________________\n",
      "dense_41 (Dense)             (None, 2)                 514       \n",
      "=================================================================\n",
      "Total params: 2,756,354\n",
      "Trainable params: 2,756,354\n",
      "Non-trainable params: 0\n",
      "_________________________________________________________________\n",
      "None\n"
     ]
    }
   ],
   "source": [
    "import tensorflow as tf\n",
    "from tensorflow.keras.models import *\n",
    "from tensorflow.keras.layers import *\n",
    "import keras\n",
    "\n",
    "model = Sequential()\n",
    "model.add(Conv1D(512, kernel_size=(3),activation='linear',padding='same',input_shape=(input_columns,1)))\n",
    "model.add(LeakyReLU(alpha=0.1))\n",
    "model.add(MaxPooling1D((3),padding='same'))\n",
    "model.add(Dropout(0.25))\n",
    "model.add(Conv1D(512, (6), activation='linear',padding='same'))\n",
    "model.add(LeakyReLU(alpha=0.1))\n",
    "model.add(MaxPooling1D(pool_size=(4),padding='same'))\n",
    "model.add(Dropout(0.25))\n",
    "model.add(Conv1D(512, (4), activation='linear',padding='same'))\n",
    "model.add(LeakyReLU(alpha=0.1))                  \n",
    "model.add(MaxPooling1D(pool_size=(3),padding='same'))\n",
    "model.add(Dropout(0.3))\n",
    "model.add(Flatten())\n",
    "model.add(Dense(256, activation='linear'))\n",
    "model.add(LeakyReLU(alpha=0.1))           \n",
    "model.add(Dropout(0.3))\n",
    "model.add(Dense(num_classes, activation='softmax'))\n",
    "\n",
    "model.compile(optimizer='adam',\n",
    "              loss=keras.losses.categorical_crossentropy,\n",
    "              metrics=['accuracy'])\n",
    "\n",
    "print(model.summary())"
   ]
  },
  {
   "cell_type": "markdown",
   "id": "7d93b157",
   "metadata": {},
   "source": [
    "#### Train model"
   ]
  },
  {
   "cell_type": "code",
   "execution_count": 1279,
   "id": "a696aa0f",
   "metadata": {},
   "outputs": [
    {
     "name": "stdout",
     "output_type": "stream",
     "text": [
      "Train model\n",
      "(867, 26, 1)\n",
      "(867, 2)\n",
      "Epoch 1/5\n",
      "28/28 [==============================] - 8s 202ms/step - loss: 0.5693 - accuracy: 0.6909\n",
      "Epoch 2/5\n",
      "28/28 [==============================] - 6s 212ms/step - loss: 0.5227 - accuracy: 0.7647\n",
      "Epoch 3/5\n",
      "28/28 [==============================] - 6s 208ms/step - loss: 0.5281 - accuracy: 0.7705\n",
      "Epoch 4/5\n",
      "28/28 [==============================] - 5s 178ms/step - loss: 0.5077 - accuracy: 0.7820\n",
      "Epoch 5/5\n",
      "28/28 [==============================] - 6s 228ms/step - loss: 0.4880 - accuracy: 0.7889\n",
      "Test evaluation\n",
      "7/7 [==============================] - 0s 16ms/step - loss: 0.6591 - accuracy: 0.7143\n"
     ]
    },
    {
     "data": {
      "text/plain": [
       "[0.6591488718986511, 0.7142857313156128]"
      ]
     },
     "execution_count": 1279,
     "metadata": {},
     "output_type": "execute_result"
    }
   ],
   "source": [
    "print('Train model')\n",
    "print(tx_train.shape)\n",
    "print(ty_train.shape)\n",
    "model.fit(tx_train, ty_train, epochs=5)\n",
    "\n",
    "print('Test evaluation')\n",
    "model.evaluate(tx_test, ty_test)"
   ]
  },
  {
   "cell_type": "markdown",
   "id": "a3463933",
   "metadata": {},
   "source": [
    "#### Evaluate model"
   ]
  },
  {
   "cell_type": "code",
   "execution_count": 1280,
   "id": "a43ada7e",
   "metadata": {},
   "outputs": [
    {
     "name": "stdout",
     "output_type": "stream",
     "text": [
      "              precision    recall  f1-score   support\n",
      "\n",
      "           0       0.00      0.00      0.00         0\n",
      "           1       1.00      0.71      0.83       217\n",
      "\n",
      "    accuracy                           0.71       217\n",
      "   macro avg       0.50      0.36      0.42       217\n",
      "weighted avg       1.00      0.71      0.83       217\n",
      "\n"
     ]
    },
    {
     "name": "stderr",
     "output_type": "stream",
     "text": [
      "/usr/local/lib/python3.8/site-packages/sklearn/metrics/_classification.py:1248: UndefinedMetricWarning: Recall and F-score are ill-defined and being set to 0.0 in labels with no true samples. Use `zero_division` parameter to control this behavior.\n",
      "  _warn_prf(average, modifier, msg_start, len(result))\n",
      "/usr/local/lib/python3.8/site-packages/sklearn/metrics/_classification.py:1248: UndefinedMetricWarning: Recall and F-score are ill-defined and being set to 0.0 in labels with no true samples. Use `zero_division` parameter to control this behavior.\n",
      "  _warn_prf(average, modifier, msg_start, len(result))\n",
      "/usr/local/lib/python3.8/site-packages/sklearn/metrics/_classification.py:1248: UndefinedMetricWarning: Recall and F-score are ill-defined and being set to 0.0 in labels with no true samples. Use `zero_division` parameter to control this behavior.\n",
      "  _warn_prf(average, modifier, msg_start, len(result))\n"
     ]
    }
   ],
   "source": [
    "from sklearn.metrics import classification_report\n",
    "\n",
    "ty_test_pred_onehot = model.predict(tx_test)\n",
    "ty_test_pred_classes = np.argmax(np.round(ty_test_pred_onehot),axis=1)\n",
    "\n",
    "# print(tx_test.shape)\n",
    "# print(ty_test_pred_classes.shape)\n",
    "\n",
    "ty_test_onehot = np.argmax(np.round(ty_test),axis=1)\n",
    "\n",
    "# target_names = [\"Class {}\".format(i) for i in range(num_classes)]\n",
    "# print(classification_report(ty_test_onehot, ty_test_pred_classes, target_names=target_names))\n",
    "\n",
    "print(classification_report(ty_test_onehot, ty_test_pred_classes))\n",
    "\n",
    "# ty_test_pred = model.predict(tx_test)\n",
    "# # ty_pred_classes = argmax(ty_test_pred,axis=1)\n",
    "# print(ty_test_classes)\n",
    "# cm = metrics.confusion_matrix(tx_test, ty_test_classes)\n",
    "# # print(ty_pred_classes.shape)"
   ]
  },
  {
   "cell_type": "code",
   "execution_count": 1281,
   "id": "e3fa850d",
   "metadata": {},
   "outputs": [
    {
     "name": "stdout",
     "output_type": "stream",
     "text": [
      "Confusion matrix:\n",
      "[[  0   0]\n",
      " [ 62 155]]\n"
     ]
    }
   ],
   "source": [
    "ty_test_classes = np.argmax(ty_test,axis=1)\n",
    "\n",
    "print('Confusion matrix:')\n",
    "cm = metrics.confusion_matrix(ty_test_classes, ty_test_pred_classes)\n",
    "print(cm)"
   ]
  },
  {
   "cell_type": "markdown",
   "id": "1ccaaaa5",
   "metadata": {},
   "source": [
    "### AutoML trial"
   ]
  },
  {
   "cell_type": "code",
   "execution_count": 1282,
   "id": "64bdd750",
   "metadata": {},
   "outputs": [
    {
     "name": "stdout",
     "output_type": "stream",
     "text": [
      "Score (train): 0.99\n",
      "Score (test): 0.95\n"
     ]
    }
   ],
   "source": [
    "import autosklearn.regression\n",
    "import autosklearn.classification\n",
    "\n",
    "# model = autosklearn.regression.AutoSklearnRegressor(\n",
    "model = autosklearn.classification.AutoSklearnClassifier(\n",
    "    time_left_for_this_task=120,\n",
    "    per_run_time_limit=30,\n",
    "    tmp_folder='/tmp/autosklearn_regression_example_tmp',\n",
    "    output_folder='/tmp/autosklearn_regression_example_out',\n",
    ")\n",
    "\n",
    "model.fit(X_train, Y_train)\n",
    "print('Score (train): %.2f' % model.score(X_train, Y_train))\n",
    "print('Score (test): %.2f' % model.score(X_test, Y_test))"
   ]
  },
  {
   "cell_type": "code",
   "execution_count": 686,
   "id": "ea1ae9a7",
   "metadata": {},
   "outputs": [],
   "source": [
    "# import sklearn\n",
    "# # print(model.show_models())\n",
    "# Y_test_pred = model.predict(X_test)\n",
    "# print(\"R2 score over test samples:\", sklearn.metrics.r2_score(Y_test, Y_test_pred))"
   ]
  },
  {
   "cell_type": "markdown",
   "id": "2b7dbc7e",
   "metadata": {},
   "source": [
    "## Validate model"
   ]
  },
  {
   "cell_type": "code",
   "execution_count": 1221,
   "id": "152697ba",
   "metadata": {},
   "outputs": [],
   "source": [
    "# import sklearn\n",
    "# from sklearn.inspection import permutation_importance"
   ]
  },
  {
   "cell_type": "markdown",
   "id": "de03fa69",
   "metadata": {},
   "source": [
    "### Confusion matrix"
   ]
  },
  {
   "cell_type": "code",
   "execution_count": 1276,
   "id": "5fe0a9ee",
   "metadata": {
    "scrolled": false
   },
   "outputs": [
    {
     "name": "stdout",
     "output_type": "stream",
     "text": [
      "[[81 14]\n",
      " [28 94]]\n"
     ]
    },
    {
     "data": {
      "text/plain": [
       "<sklearn.metrics._plot.confusion_matrix.ConfusionMatrixDisplay at 0x7f59cfa46700>"
      ]
     },
     "execution_count": 1276,
     "metadata": {},
     "output_type": "execute_result"
    },
    {
     "data": {
      "image/png": "[encoded data removed]",
      "text/plain": [
       "<Figure size 432x288 with 2 Axes>"
      ]
     },
     "metadata": {
      "needs_background": "light"
     },
     "output_type": "display_data"
    }
   ],
   "source": [
    "Y_test_pred = model.predict(X_test)\n",
    "cm = metrics.confusion_matrix(Y_test, Y_test_pred)\n",
    "print(cm)\n",
    "metrics.plot_confusion_matrix(model, X_test, Y_test) "
   ]
  },
  {
   "cell_type": "code",
   "execution_count": 1272,
   "id": "bf082652",
   "metadata": {},
   "outputs": [
    {
     "name": "stdout",
     "output_type": "stream",
     "text": [
      "              precision    recall  f1-score   support\n",
      "\n",
      "           0       0.74      0.85      0.79        95\n",
      "           1       0.87      0.77      0.82       122\n",
      "\n",
      "    accuracy                           0.81       217\n",
      "   macro avg       0.81      0.81      0.81       217\n",
      "weighted avg       0.81      0.81      0.81       217\n",
      "\n"
     ]
    }
   ],
   "source": [
    "Y_test_pred = model.predict(X_test)\n",
    "# print(classification_report(Y_test, Y_test_pred, target_names=['sell','none','buy']))\n",
    "print(metrics.classification_report(Y_test, Y_test_pred))"
   ]
  },
  {
   "cell_type": "markdown",
   "id": "7ea46b94",
   "metadata": {},
   "source": [
    "### Feature importances"
   ]
  },
  {
   "cell_type": "code",
   "execution_count": 1273,
   "id": "23d7d1e7",
   "metadata": {},
   "outputs": [
    {
     "name": "stdout",
     "output_type": "stream",
     "text": [
      "Feature importances:\n"
     ]
    },
    {
     "ename": "AttributeError",
     "evalue": "'SVC' object has no attribute 'feature_importances_'",
     "output_type": "error",
     "traceback": [
      "\u001b[0;31m---------------------------------------------------------------------------\u001b[0m",
      "\u001b[0;31mAttributeError\u001b[0m                            Traceback (most recent call last)",
      "\u001b[0;32m<ipython-input-1273-7033f551cceb>\u001b[0m in \u001b[0;36m<module>\u001b[0;34m\u001b[0m\n\u001b[1;32m      1\u001b[0m \u001b[0mprint\u001b[0m\u001b[0;34m(\u001b[0m\u001b[0;34m\"Feature importances:\"\u001b[0m\u001b[0;34m)\u001b[0m\u001b[0;34m\u001b[0m\u001b[0;34m\u001b[0m\u001b[0m\n\u001b[0;32m----> 2\u001b[0;31m \u001b[0mfeatures\u001b[0m \u001b[0;34m=\u001b[0m \u001b[0mzip\u001b[0m\u001b[0;34m(\u001b[0m\u001b[0mX\u001b[0m\u001b[0;34m.\u001b[0m\u001b[0mcolumns\u001b[0m\u001b[0;34m,\u001b[0m \u001b[0mmodel\u001b[0m\u001b[0;34m.\u001b[0m\u001b[0mfeature_importances_\u001b[0m\u001b[0;34m)\u001b[0m\u001b[0;34m\u001b[0m\u001b[0;34m\u001b[0m\u001b[0m\n\u001b[0m\u001b[1;32m      3\u001b[0m \u001b[0mfeatures\u001b[0m \u001b[0;34m=\u001b[0m \u001b[0msorted\u001b[0m\u001b[0;34m(\u001b[0m\u001b[0mfeatures\u001b[0m\u001b[0;34m,\u001b[0m \u001b[0mkey\u001b[0m \u001b[0;34m=\u001b[0m \u001b[0;32mlambda\u001b[0m \u001b[0mt\u001b[0m\u001b[0;34m:\u001b[0m \u001b[0mt\u001b[0m\u001b[0;34m[\u001b[0m\u001b[0;36m1\u001b[0m\u001b[0;34m]\u001b[0m\u001b[0;34m,\u001b[0m \u001b[0mreverse\u001b[0m\u001b[0;34m=\u001b[0m\u001b[0;32mTrue\u001b[0m\u001b[0;34m)\u001b[0m\u001b[0;34m\u001b[0m\u001b[0;34m\u001b[0m\u001b[0m\n\u001b[1;32m      4\u001b[0m \u001b[0;32mfor\u001b[0m \u001b[0mfeat\u001b[0m\u001b[0;34m,\u001b[0m\u001b[0mimp\u001b[0m \u001b[0;32min\u001b[0m \u001b[0mfeatures\u001b[0m\u001b[0;34m:\u001b[0m\u001b[0;34m\u001b[0m\u001b[0;34m\u001b[0m\u001b[0m\n\u001b[1;32m      5\u001b[0m     \u001b[0mprint\u001b[0m\u001b[0;34m(\u001b[0m\u001b[0;34m'  - %s: %.2f'\u001b[0m \u001b[0;34m%\u001b[0m \u001b[0;34m(\u001b[0m\u001b[0mfeat\u001b[0m\u001b[0;34m,\u001b[0m\u001b[0mimp\u001b[0m\u001b[0;34m)\u001b[0m\u001b[0;34m)\u001b[0m\u001b[0;34m\u001b[0m\u001b[0;34m\u001b[0m\u001b[0m\n",
      "\u001b[0;31mAttributeError\u001b[0m: 'SVC' object has no attribute 'feature_importances_'"
     ]
    }
   ],
   "source": [
    "print(\"Feature importances:\")\n",
    "features = zip(X.columns, model.feature_importances_)\n",
    "features = sorted(features, key = lambda t: t[1], reverse=True)\n",
    "for feat,imp in features:\n",
    "    print('  - %s: %.2f' % (feat,imp))"
   ]
  },
  {
   "cell_type": "markdown",
   "id": "ad556d38",
   "metadata": {},
   "source": [
    "### Predict values"
   ]
  },
  {
   "cell_type": "code",
   "execution_count": 1274,
   "id": "b7270950",
   "metadata": {},
   "outputs": [],
   "source": [
    "df8 = df7.copy()\n",
    "\n",
    "Y_pred = model.predict(X_prep)\n",
    "df8['signal_predicted'] = Y_pred"
   ]
  },
  {
   "cell_type": "markdown",
   "id": "3f89470b",
   "metadata": {},
   "source": [
    "### Show results on test subset"
   ]
  },
  {
   "cell_type": "code",
   "execution_count": 1275,
   "id": "e4187d56",
   "metadata": {},
   "outputs": [
    {
     "data": {
      "image/png": "[encoded data removed]",
      "text/plain": [
       "<Figure size 1440x360 with 1 Axes>"
      ]
     },
     "metadata": {
      "needs_background": "light"
     },
     "output_type": "display_data"
    }
   ],
   "source": [
    "df9 = df8.copy()\n",
    "\n",
    "# df9 = df9[:len(X_train)]\n",
    "# df9 = df9[len(X_train):]\n",
    "# print(len(df9))\n",
    "# df9 = df9[1000:2500]\n",
    "\n",
    "fig = plt.figure(figsize=(20, 5))\n",
    "buys = df9.loc[df9[\"signal_predicted\"] == 1]\n",
    "sells = df9.loc[df9[\"signal_predicted\"] == 2]\n",
    "plt.plot(df9.index, df9['close'], lw=1., marker='o', label='Price')\n",
    "plt.plot(buys.index, df9.loc[buys.index]['close'], '^', markersize=12, color='red', lw=2., label='Buy')\n",
    "plt.plot(sells.index, df9.loc[sells.index]['close'], 'v', markersize=12, color='green', lw=2., label='Sell')\n",
    "# plt.vlines(X_test.index[0], ymin=np.min(df9['close'].values), ymax=np.max(df9['close'].values), colors='k', linestyles='dotted', label='<-train test->')\n",
    "plt.ylabel('Price')\n",
    "plt.xlabel('Date');\n",
    "plt.title('Buy and Sell signals')\n",
    "plt.legend(loc='best')\n",
    "plt.show()"
   ]
  },
  {
   "cell_type": "markdown",
   "id": "87491569",
   "metadata": {},
   "source": [
    "### Backtesting"
   ]
  },
  {
   "cell_type": "code",
   "execution_count": null,
   "id": "02b2ebea",
   "metadata": {},
   "outputs": [],
   "source": []
  },
  {
   "cell_type": "code",
   "execution_count": null,
   "id": "77653820",
   "metadata": {},
   "outputs": [],
   "source": []
  },
  {
   "cell_type": "code",
   "execution_count": null,
   "id": "831dd44f",
   "metadata": {},
   "outputs": [],
   "source": []
  }
 ],
 "metadata": {
  "kernelspec": {
   "display_name": "Python 3",
   "language": "python",
   "name": "python3"
  },
  "language_info": {
   "codemirror_mode": {
    "name": "ipython",
    "version": 3
   },
   "file_extension": ".py",
   "mimetype": "text/x-python",
   "name": "python",
   "nbconvert_exporter": "python",
   "pygments_lexer": "ipython3",
   "version": "3.8.3"
  }
 },
 "nbformat": 4,
 "nbformat_minor": 5
}
